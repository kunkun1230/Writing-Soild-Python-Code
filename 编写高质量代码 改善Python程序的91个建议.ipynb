{
 "cells": [
  {
   "cell_type": "markdown",
   "metadata": {},
   "source": [
    "## 第1章 引论 "
   ]
  },
  {
   "cell_type": "markdown",
   "metadata": {},
   "source": [
    "#### 建议1.理解Pythonic的概念"
   ]
  },
  {
   "cell_type": "markdown",
   "metadata": {},
   "source": [
    "%s非常影响可读性，很难看清楚哪一个占位符对应哪一个实参"
   ]
  },
  {
   "cell_type": "code",
   "execution_count": 1,
   "metadata": {
    "scrolled": true
   },
   "outputs": [
    {
     "name": "stdout",
     "output_type": "stream",
     "text": [
      "hello Tom !\n"
     ]
    }
   ],
   "source": [
    "print('hello %s !'%('Tom'))"
   ]
  },
  {
   "cell_type": "markdown",
   "metadata": {},
   "source": [
    "可以写成较为pythonic的代码如下"
   ]
  },
  {
   "cell_type": "code",
   "execution_count": 2,
   "metadata": {},
   "outputs": [],
   "source": [
    "value = {'sentence':'hello world','language':'Python'}"
   ]
  },
  {
   "cell_type": "code",
   "execution_count": 3,
   "metadata": {},
   "outputs": [
    {
     "name": "stdout",
     "output_type": "stream",
     "text": [
      "hello world is from Python.\n"
     ]
    }
   ],
   "source": [
    "print(\"%(sentence)s is from %(language)s.\"%value)"
   ]
  },
  {
   "cell_type": "markdown",
   "metadata": {},
   "source": [
    "进一步可以利用format写成更pythonic的形式"
   ]
  },
  {
   "cell_type": "code",
   "execution_count": 4,
   "metadata": {},
   "outputs": [
    {
     "name": "stdout",
     "output_type": "stream",
     "text": [
      "hello world is from Python.\n"
     ]
    }
   ],
   "source": [
    "print(\"{sentence} is from {language}.\".format(sentence = 'hello world',language = 'Python'))"
   ]
  },
  {
   "cell_type": "markdown",
   "metadata": {},
   "source": [
    "#### 建议2.编写Pythonic代码"
   ]
  },
  {
   "cell_type": "markdown",
   "metadata": {},
   "source": [
    "1、避免只用大小写来区别对象；   \n",
    "2、避免使用容易引起混淆的名称；  \n",
    "3、不要害怕过长的变量名。 "
   ]
  },
  {
   "cell_type": "markdown",
   "metadata": {},
   "source": [
    "#### 建议3.理解Python与C语言的不同之处"
   ]
  },
  {
   "cell_type": "markdown",
   "metadata": {},
   "source": [
    "(1) 缩进与\"{}\";  \n",
    "(2) '与\"\";  \n",
    "(3) 三元操作符：  "
   ]
  },
  {
   "cell_type": "code",
   "execution_count": 5,
   "metadata": {},
   "outputs": [
    {
     "name": "stdout",
     "output_type": "stream",
     "text": [
      "1\n"
     ]
    }
   ],
   "source": [
    "x,y = 1,2\n",
    "print(x if x < y else y)"
   ]
  },
  {
   "cell_type": "markdown",
   "metadata": {},
   "source": [
    "#### 建议4.在代码中适当添加注释"
   ]
  },
  {
   "cell_type": "markdown",
   "metadata": {},
   "source": [
    "#### 建议5.添加空行使代码布局更加优雅"
   ]
  },
  {
   "cell_type": "markdown",
   "metadata": {},
   "source": [
    "#### 建议6.编写函数的4个原则"
   ]
  },
  {
   "cell_type": "markdown",
   "metadata": {},
   "source": [
    "1、函数设计要尽量短信，嵌套层次不宜过深；     \n",
    "2、函数申明应做到合理、简单、易于使用；    \n",
    "3、函数参数设计尽可能使用默认参数，考虑向下兼容；  \n",
    "4、一个函数只做一件事，尽量保证数据粒度的一致性。"
   ]
  },
  {
   "cell_type": "markdown",
   "metadata": {},
   "source": [
    "#### 建议7.将常量集中到一个文件"
   ]
  },
  {
   "cell_type": "markdown",
   "metadata": {},
   "source": [
    "## 第2章 编程惯用法"
   ]
  },
  {
   "cell_type": "markdown",
   "metadata": {
    "collapsed": true
   },
   "source": [
    "#### 建议8.利用assert语句发现问题"
   ]
  },
  {
   "cell_type": "markdown",
   "metadata": {},
   "source": [
    "1、不要滥用；     \n",
    "2、如果Python本身存在异常处理，就不需要assert；    \n",
    "3、不用异常来检测用户的输入；  \n",
    "4、在函数调用后，当需要确认返回值是否合理时可以使用断言；  \n",
    "5、当条件是使业务逻辑继续下去的先决条件时可以使用断言。"
   ]
  },
  {
   "cell_type": "code",
   "execution_count": 6,
   "metadata": {},
   "outputs": [],
   "source": [
    "x,y = 1,2"
   ]
  },
  {
   "cell_type": "code",
   "execution_count": 8,
   "metadata": {},
   "outputs": [
    {
     "ename": "AssertionError",
     "evalue": "not equals",
     "output_type": "error",
     "traceback": [
      "\u001b[1;31m---------------------------------------------------------------------------\u001b[0m",
      "\u001b[1;31mAssertionError\u001b[0m                            Traceback (most recent call last)",
      "\u001b[1;32m<ipython-input-8-91245dbbffa3>\u001b[0m in \u001b[0;36m<module>\u001b[1;34m\u001b[0m\n\u001b[1;32m----> 1\u001b[1;33m \u001b[1;32massert\u001b[0m \u001b[0mx\u001b[0m \u001b[1;33m==\u001b[0m \u001b[0my\u001b[0m\u001b[1;33m,\u001b[0m\u001b[1;34m\"not equals\"\u001b[0m\u001b[1;33m\u001b[0m\u001b[1;33m\u001b[0m\u001b[0m\n\u001b[0m",
      "\u001b[1;31mAssertionError\u001b[0m: not equals"
     ]
    }
   ],
   "source": [
    "assert x == y,\"not equals\""
   ]
  },
  {
   "cell_type": "code",
   "execution_count": 9,
   "metadata": {},
   "outputs": [
    {
     "ename": "AssertionError",
     "evalue": "",
     "output_type": "error",
     "traceback": [
      "\u001b[1;31m---------------------------------------------------------------------------\u001b[0m",
      "\u001b[1;31mAssertionError\u001b[0m                            Traceback (most recent call last)",
      "\u001b[1;32m<ipython-input-9-a134598187a0>\u001b[0m in \u001b[0;36m<module>\u001b[1;34m\u001b[0m\n\u001b[0;32m      1\u001b[0m \u001b[1;32mdef\u001b[0m \u001b[0mfoo\u001b[0m\u001b[1;33m(\u001b[0m\u001b[0mx\u001b[0m\u001b[1;33m)\u001b[0m\u001b[1;33m:\u001b[0m\u001b[1;33m\u001b[0m\u001b[1;33m\u001b[0m\u001b[0m\n\u001b[0;32m      2\u001b[0m     \u001b[1;32massert\u001b[0m \u001b[0mx\u001b[0m\u001b[1;33m\u001b[0m\u001b[1;33m\u001b[0m\u001b[0m\n\u001b[1;32m----> 3\u001b[1;33m \u001b[0mfoo\u001b[0m\u001b[1;33m(\u001b[0m\u001b[1;36m0\u001b[0m\u001b[1;33m)\u001b[0m\u001b[1;33m\u001b[0m\u001b[1;33m\u001b[0m\u001b[0m\n\u001b[0m",
      "\u001b[1;32m<ipython-input-9-a134598187a0>\u001b[0m in \u001b[0;36mfoo\u001b[1;34m(x)\u001b[0m\n\u001b[0;32m      1\u001b[0m \u001b[1;32mdef\u001b[0m \u001b[0mfoo\u001b[0m\u001b[1;33m(\u001b[0m\u001b[0mx\u001b[0m\u001b[1;33m)\u001b[0m\u001b[1;33m:\u001b[0m\u001b[1;33m\u001b[0m\u001b[1;33m\u001b[0m\u001b[0m\n\u001b[1;32m----> 2\u001b[1;33m     \u001b[1;32massert\u001b[0m \u001b[0mx\u001b[0m\u001b[1;33m\u001b[0m\u001b[1;33m\u001b[0m\u001b[0m\n\u001b[0m\u001b[0;32m      3\u001b[0m \u001b[0mfoo\u001b[0m\u001b[1;33m(\u001b[0m\u001b[1;36m0\u001b[0m\u001b[1;33m)\u001b[0m\u001b[1;33m\u001b[0m\u001b[1;33m\u001b[0m\u001b[0m\n",
      "\u001b[1;31mAssertionError\u001b[0m: "
     ]
    }
   ],
   "source": [
    "def foo(x):\n",
    "    assert x\n",
    "foo(0)"
   ]
  },
  {
   "cell_type": "markdown",
   "metadata": {},
   "source": [
    "#### 建议9.数据交换的时候不推荐使用中间变量"
   ]
  },
  {
   "cell_type": "code",
   "execution_count": 10,
   "metadata": {},
   "outputs": [],
   "source": [
    "import dis"
   ]
  },
  {
   "cell_type": "code",
   "execution_count": 11,
   "metadata": {},
   "outputs": [],
   "source": [
    "def swap1():\n",
    "    x,y = 2,3\n",
    "    x,y = y,x\n",
    "\n",
    "def swap2():\n",
    "    x,y = 2,3\n",
    "    temp = x\n",
    "    x = y\n",
    "    y = temp"
   ]
  },
  {
   "cell_type": "code",
   "execution_count": 12,
   "metadata": {},
   "outputs": [
    {
     "name": "stdout",
     "output_type": "stream",
     "text": [
      "swap1():\n",
      "  2           0 LOAD_CONST               1 ((2, 3))\n",
      "              2 UNPACK_SEQUENCE          2\n",
      "              4 STORE_FAST               0 (x)\n",
      "              6 STORE_FAST               1 (y)\n",
      "\n",
      "  3           8 LOAD_FAST                1 (y)\n",
      "             10 LOAD_FAST                0 (x)\n",
      "             12 ROT_TWO\n",
      "             14 STORE_FAST               0 (x)\n",
      "             16 STORE_FAST               1 (y)\n",
      "             18 LOAD_CONST               0 (None)\n",
      "             20 RETURN_VALUE\n"
     ]
    }
   ],
   "source": [
    "print('swap1():')\n",
    "dis.dis(swap1)"
   ]
  },
  {
   "cell_type": "code",
   "execution_count": 13,
   "metadata": {},
   "outputs": [
    {
     "name": "stdout",
     "output_type": "stream",
     "text": [
      "swap2():\n",
      "  6           0 LOAD_CONST               1 ((2, 3))\n",
      "              2 UNPACK_SEQUENCE          2\n",
      "              4 STORE_FAST               0 (x)\n",
      "              6 STORE_FAST               1 (y)\n",
      "\n",
      "  7           8 LOAD_FAST                0 (x)\n",
      "             10 STORE_FAST               2 (temp)\n",
      "\n",
      "  8          12 LOAD_FAST                1 (y)\n",
      "             14 STORE_FAST               0 (x)\n",
      "\n",
      "  9          16 LOAD_FAST                2 (temp)\n",
      "             18 STORE_FAST               1 (y)\n",
      "             20 LOAD_CONST               0 (None)\n",
      "             22 RETURN_VALUE\n"
     ]
    }
   ],
   "source": [
    "print('swap2():')\n",
    "dis.dis(swap2)"
   ]
  },
  {
   "cell_type": "markdown",
   "metadata": {},
   "source": [
    "显然，两者相比swap2中存在对于temp的load和store指令，这让swap2消耗的时间更多"
   ]
  },
  {
   "cell_type": "markdown",
   "metadata": {},
   "source": [
    "#### 建议10.充分利用Lazy evaluation特性"
   ]
  },
  {
   "cell_type": "markdown",
   "metadata": {},
   "source": [
    "1、避免不必要的计算，带来性能上的提升    \n",
    "在编程过程中，如果对于or条件表达式应该将值为真的可能性较高的变量写在or前面，而and则应该退后。"
   ]
  },
  {
   "cell_type": "markdown",
   "metadata": {},
   "source": [
    "2、节省空间，使得无限循环的数据结构成为可能"
   ]
  },
  {
   "cell_type": "code",
   "execution_count": 16,
   "metadata": {},
   "outputs": [],
   "source": [
    "def fib():\n",
    "    a,b = 0,1\n",
    "    while True:\n",
    "        yield a\n",
    "        a,b = b, a + b"
   ]
  },
  {
   "cell_type": "code",
   "execution_count": 17,
   "metadata": {},
   "outputs": [
    {
     "name": "stdout",
     "output_type": "stream",
     "text": [
      "[0, 1, 1, 2, 3]\n"
     ]
    }
   ],
   "source": [
    "# 使用islice只迭代5次\n",
    "from itertools import islice\n",
    "print(list(islice(fib(),5)))"
   ]
  },
  {
   "cell_type": "markdown",
   "metadata": {},
   "source": [
    "#### 建议11.理解枚举替代实现的缺陷"
   ]
  },
  {
   "cell_type": "markdown",
   "metadata": {},
   "source": [
    "#### 建议12.不推荐使用type进行类型检查"
   ]
  },
  {
   "cell_type": "markdown",
   "metadata": {},
   "source": [
    "基于内建类型扩展的用户自定义类型，type函数并不能准确返回结果。  \n",
    "宜使用isinstance代替type"
   ]
  },
  {
   "cell_type": "code",
   "execution_count": 21,
   "metadata": {},
   "outputs": [
    {
     "data": {
      "text/plain": [
       "False"
      ]
     },
     "execution_count": 21,
     "metadata": {},
     "output_type": "execute_result"
    }
   ],
   "source": [
    "isinstance(2,float)"
   ]
  },
  {
   "cell_type": "markdown",
   "metadata": {},
   "source": [
    "#### 建议13.尽量转换为浮点类型后再做除法"
   ]
  },
  {
   "cell_type": "markdown",
   "metadata": {},
   "source": [
    "你会发现如下代码会无限循环。因为循环到第5次的时候，i的实际值为1.5000000000000004"
   ]
  },
  {
   "cell_type": "markdown",
   "metadata": {},
   "source": [
    "i = 1\n",
    "while i != 1.5:\n",
    "    i = i + 0.1\n",
    "    print(i)"
   ]
  },
  {
   "cell_type": "code",
   "execution_count": 28,
   "metadata": {},
   "outputs": [
    {
     "name": "stdout",
     "output_type": "stream",
     "text": [
      "1.1\n",
      "1.2000000000000002\n",
      "1.3000000000000003\n",
      "1.4000000000000004\n",
      "1.5000000000000004\n"
     ]
    }
   ],
   "source": [
    "i = 1\n",
    "while round(i,1) != 1.5:\n",
    "    i = i + 0.1\n",
    "    print(i)"
   ]
  },
  {
   "cell_type": "markdown",
   "metadata": {},
   "source": [
    "#### 建议14.警惕eval()的安全漏洞"
   ]
  },
  {
   "cell_type": "markdown",
   "metadata": {},
   "source": [
    "#### 建议15.使用enumerate()获取序列的索引和值"
   ]
  },
  {
   "cell_type": "markdown",
   "metadata": {},
   "source": [
    "enumerate由于清晰简洁可读性好，因此建议使用"
   ]
  },
  {
   "cell_type": "code",
   "execution_count": 29,
   "metadata": {},
   "outputs": [],
   "source": [
    "li = ['a','b','c','d','e']"
   ]
  },
  {
   "cell_type": "code",
   "execution_count": 30,
   "metadata": {},
   "outputs": [
    {
     "name": "stdout",
     "output_type": "stream",
     "text": [
      "0 a\n",
      "1 b\n",
      "2 c\n",
      "3 d\n",
      "4 e\n"
     ]
    }
   ],
   "source": [
    "#正序形式\n",
    "for idx,val in enumerate(li):\n",
    "    print(idx,val)"
   ]
  },
  {
   "cell_type": "code",
   "execution_count": 34,
   "metadata": {},
   "outputs": [
    {
     "name": "stdout",
     "output_type": "stream",
     "text": [
      "name Jon\n",
      "age 20\n",
      "hobby football\n"
     ]
    }
   ],
   "source": [
    "#对于字典的循环使用enumerate并不适合，宜使用iteritems\n",
    "personinfo = {'name':'Jon','age':'20','hobby':'football'}\n",
    "\n",
    "for k,v in personinfo.items():\n",
    "    print(k,v)"
   ]
  },
  {
   "cell_type": "markdown",
   "metadata": {},
   "source": [
    "#### 建议16.分清==与is的适用场景"
   ]
  },
  {
   "cell_type": "markdown",
   "metadata": {},
   "source": [
    "判断两个对象相等应该使用==，而不是is"
   ]
  },
  {
   "cell_type": "code",
   "execution_count": 37,
   "metadata": {},
   "outputs": [],
   "source": [
    "str1 = 'string'\n",
    "str2 = ''.join(['s','t','r','i','n','g'])"
   ]
  },
  {
   "cell_type": "code",
   "execution_count": 38,
   "metadata": {},
   "outputs": [
    {
     "data": {
      "text/plain": [
       "True"
      ]
     },
     "execution_count": 38,
     "metadata": {},
     "output_type": "execute_result"
    }
   ],
   "source": [
    "str1 == str2"
   ]
  },
  {
   "cell_type": "code",
   "execution_count": 39,
   "metadata": {},
   "outputs": [
    {
     "data": {
      "text/plain": [
       "False"
      ]
     },
     "execution_count": 39,
     "metadata": {},
     "output_type": "execute_result"
    }
   ],
   "source": [
    "str1 is str2"
   ]
  },
  {
   "cell_type": "markdown",
   "metadata": {},
   "source": [
    "is表示的是对象标示符(object identity),而==表示的意思是相等，显然两者并不是一个东西。  \n",
    "is的作用是用来检查对象的标示符是否一致的， 也就是比较两个对象在内存中是否拥有同一块内存空间， 它并不适合用来判断两个字符串是否相等。  \n",
    "x is y仅当x和y是同一个对象的时候才返回True, x is b 基本相当于id(x) = id(y）。   \n",
    "而==才是用来检验两个对象的值是否相等的 ， 它实际调用内部_eq_（）方法，因此a==b相当于a._eq_（b)， 所以＝＝操作符是可以被重载的， 而is不能被重载。 \n",
    "一般情况下，如果x is y为True的话,x == y的值也为True。 "
   ]
  },
  {
   "cell_type": "markdown",
   "metadata": {},
   "source": [
    "#### 建议17.考虑兼容性，尽可能使用Unicode"
   ]
  },
  {
   "cell_type": "markdown",
   "metadata": {},
   "source": [
    "Python中默认的编码是ASCII编码，当调用print方法输出的时候会隐式地进行从ASCII到系统默认编码(Windows上为CP936)  \n",
    "的转换，但是中文字符并不是ASCII字符，而此时源文件中又未指定其他编码方式，Python解释器并不知道如何正确处理这种情况，便会抛出异常"
   ]
  },
  {
   "cell_type": "markdown",
   "metadata": {},
   "source": [
    "因此，要避免这种错误需要在源文件中进行编码声明"
   ]
  },
  {
   "cell_type": "markdown",
   "metadata": {},
   "source": [
    "第一种声明方式:"
   ]
  },
  {
   "cell_type": "code",
   "execution_count": 42,
   "metadata": {},
   "outputs": [],
   "source": [
    "# coding = <encoding name>"
   ]
  },
  {
   "cell_type": "markdown",
   "metadata": {},
   "source": [
    "第二种声明方式:"
   ]
  },
  {
   "cell_type": "code",
   "execution_count": 43,
   "metadata": {},
   "outputs": [],
   "source": [
    "#!/usr/bin/pyth。n\n",
    "# -*- coding: <encoding name> -•-"
   ]
  },
  {
   "cell_type": "markdown",
   "metadata": {},
   "source": [
    "第三种声明方式:"
   ]
  },
  {
   "cell_type": "code",
   "execution_count": 44,
   "metadata": {},
   "outputs": [],
   "source": [
    "# !/usr/bin/pyth。n\n",
    "# vim: set.fileencoding=<encoding name>:"
   ]
  },
  {
   "cell_type": "markdown",
   "metadata": {},
   "source": [
    "#### 建议18.构建合理的包层次来管理module"
   ]
  },
  {
   "cell_type": "markdown",
   "metadata": {},
   "source": [
    "本质上每一个Python文件都是一个模块，使用模块可以增强代码的可维护性和可重用性。  \n",
    "但显然在大的项目中将所有的Python文件放在一个目录下并不是一个值得推荐的做法，   \n",
    "我们需要合理地组织项目的层次来管理模块，这就是包（Package）发挥功效的地方了。  "
   ]
  },
  {
   "cell_type": "markdown",
   "metadata": {},
   "source": [
    "包的使用可以带来以下便利:  \n",
    "1.合理组织代码，便于维护和使用；   \n",
    "2.能够有效地避免名称空间冲突。"
   ]
  },
  {
   "cell_type": "markdown",
   "metadata": {},
   "source": [
    "## 第3章 基础语法"
   ]
  },
  {
   "cell_type": "markdown",
   "metadata": {},
   "source": [
    "#### 建议19.有节制地使用from...import 语句"
   ]
  },
  {
   "cell_type": "markdown",
   "metadata": {},
   "source": [
    "使用import要注意以下几点:  \n",
    "1.一般情况下尽量优先使用import a的形式，如访问B时需要使用a.B的形式；    \n",
    "2.有节制地使用from a import B形式．可以直接访问B；  \n",
    "3.尽量避免使用合from a import *。较多的使用可能会导致：  \n",
    "（1）命名空间冲突  \n",
    "（2）循环嵌套导入的问题  "
   ]
  },
  {
   "cell_type": "markdown",
   "metadata": {},
   "source": [
    "#### 建议20.优先使用absolute import来导入模块"
   ]
  },
  {
   "cell_type": "markdown",
   "metadata": {},
   "source": [
    "由于命名冲突原因及语义模糊等，不推荐使用隐式的relative import，并且它在Python 3中已经移除"
   ]
  },
  {
   "cell_type": "markdown",
   "metadata": {},
   "source": [
    "#### 建议21.i += 1 不等于 ++ i"
   ]
  },
  {
   "cell_type": "markdown",
   "metadata": {},
   "source": [
    "++ i在python语法中是合法的，但是并不是我们理解的自增操作，与 i += 1不一样"
   ]
  },
  {
   "cell_type": "code",
   "execution_count": 45,
   "metadata": {},
   "outputs": [
    {
     "data": {
      "text/plain": [
       "1"
      ]
     },
     "execution_count": 45,
     "metadata": {},
     "output_type": "execute_result"
    }
   ],
   "source": [
    "+1"
   ]
  },
  {
   "cell_type": "code",
   "execution_count": 46,
   "metadata": {},
   "outputs": [
    {
     "data": {
      "text/plain": [
       "1"
      ]
     },
     "execution_count": 46,
     "metadata": {},
     "output_type": "execute_result"
    }
   ],
   "source": [
    "++1"
   ]
  },
  {
   "cell_type": "markdown",
   "metadata": {},
   "source": [
    "#### 建议22.使用with自动关闭资源"
   ]
  },
  {
   "cell_type": "markdown",
   "metadata": {},
   "source": [
    "利用with语句保证文档打开和关闭的正常"
   ]
  },
  {
   "cell_type": "code",
   "execution_count": 47,
   "metadata": {},
   "outputs": [],
   "source": [
    "with open(\"test.txt\",'w') as f:\n",
    "    f.write(\"test\")"
   ]
  },
  {
   "cell_type": "markdown",
   "metadata": {},
   "source": [
    "#### 建议23.使用else子句简化循环（异常处理）"
   ]
  },
  {
   "cell_type": "markdown",
   "metadata": {},
   "source": [
    "#### 建议24.异常处理的几点基本原则"
   ]
  },
  {
   "cell_type": "markdown",
   "metadata": {},
   "source": [
    "最为全面的组合为：try-except-else-finally异常处理"
   ]
  },
  {
   "cell_type": "markdown",
   "metadata": {},
   "source": [
    "异常处理需要遵循以下几个基本原则:  \n",
    "1.注意异常的粒度；    \n",
    "2.谨慎使用单独的except语句处理所有异常，最好可以定位具体的异常，不要用一个except捕获所有异常；  \n",
    "3.注意异常捕获的顺序，在合适的层次处理异常；  \n",
    "4.使用更为友好的异常信息，遵循异常参数规范，能较为清晰的让用户理解异常。"
   ]
  },
  {
   "cell_type": "markdown",
   "metadata": {},
   "source": [
    "#### 建议25.避免finally中可能发生的陷阱"
   ]
  },
  {
   "cell_type": "code",
   "execution_count": 52,
   "metadata": {},
   "outputs": [],
   "source": [
    "def FinallyTest():\n",
    "    while True:\n",
    "        try:\n",
    "            print(\"I am running\")\n",
    "            raise IndexError(\"r\")\n",
    "        except NameError as e:\n",
    "            print(\"NameError happened\")\n",
    "            break\n",
    "        finally:\n",
    "            print(\"finally executed\")\n",
    "            #如果finally语句中加入了return或者break语句，那么临时保存的异常将会被丢失，从而导致异常被屏蔽，可以尝试注释掉break\n",
    "            break"
   ]
  },
  {
   "cell_type": "code",
   "execution_count": 53,
   "metadata": {
    "scrolled": true
   },
   "outputs": [
    {
     "name": "stdout",
     "output_type": "stream",
     "text": [
      "I am running\n",
      "finally executed\n"
     ]
    }
   ],
   "source": [
    "FinallyTest()"
   ]
  },
  {
   "cell_type": "code",
   "execution_count": 54,
   "metadata": {},
   "outputs": [],
   "source": [
    "def ReturnTest(a):\n",
    "    try:\n",
    "        if a <= 0:\n",
    "            raise ValueError(\"data can not be negative\")\n",
    "        else:\n",
    "            return a\n",
    "    except ValueError as e:\n",
    "        print(e)\n",
    "    finally:\n",
    "        print(\"The End\")\n",
    "        return -1"
   ]
  },
  {
   "cell_type": "code",
   "execution_count": 55,
   "metadata": {},
   "outputs": [
    {
     "name": "stdout",
     "output_type": "stream",
     "text": [
      "data can not be negative\n",
      "The End\n"
     ]
    },
    {
     "data": {
      "text/plain": [
       "-1"
      ]
     },
     "execution_count": 55,
     "metadata": {},
     "output_type": "execute_result"
    }
   ],
   "source": [
    "ReturnTest(0)"
   ]
  },
  {
   "cell_type": "code",
   "execution_count": 56,
   "metadata": {},
   "outputs": [
    {
     "name": "stdout",
     "output_type": "stream",
     "text": [
      "The End\n"
     ]
    },
    {
     "data": {
      "text/plain": [
       "-1"
      ]
     },
     "execution_count": 56,
     "metadata": {},
     "output_type": "execute_result"
    }
   ],
   "source": [
    "#a = 2的时候，因为try中没有报错，所以先执行了finally中的return语句，所以try中的return如何也没有执行\n",
    "ReturnTest(2)"
   ]
  },
  {
   "cell_type": "markdown",
   "metadata": {},
   "source": [
    "#### 建议26.深入理解None，正确判断对象是否为空"
   ]
  },
  {
   "cell_type": "markdown",
   "metadata": {},
   "source": [
    "Python中哪些数据可能被认为为空：\n",
    "1.常量None  \n",
    "2.常量False  \n",
    "3.任何形式的数值类型零，如0、0L、0.0、0j  \n",
    "4.空的序列，如'',(),[]  \n",
    "5.空的字典，如{}  \n",
    "6.当用户定义的类中定义了nonzero()方法和len()方法，并且该方法返回整数0或者布尔值False的时候  "
   ]
  },
  {
   "cell_type": "code",
   "execution_count": 57,
   "metadata": {},
   "outputs": [
    {
     "data": {
      "text/plain": [
       "140713515769056"
      ]
     },
     "execution_count": 57,
     "metadata": {},
     "output_type": "execute_result"
    }
   ],
   "source": [
    "id(None)"
   ]
  },
  {
   "cell_type": "code",
   "execution_count": 58,
   "metadata": {},
   "outputs": [
    {
     "data": {
      "text/plain": [
       "False"
      ]
     },
     "execution_count": 58,
     "metadata": {},
     "output_type": "execute_result"
    }
   ],
   "source": [
    "None == 0"
   ]
  },
  {
   "cell_type": "markdown",
   "metadata": {},
   "source": [
    "#### 建议27.连接字符串应优先使用join而不是+"
   ]
  },
  {
   "cell_type": "markdown",
   "metadata": {},
   "source": [
    "通过timeit模块监测可见使用+进行操作的时间远大于join操作。  \n",
    "这是由于使用+操作，每进行一次相加，变回在内存中申请一块新的内存空间计算，字符串连接的时间复杂度近似为O(n^2)  \n",
    "而使用join连接字符串的时候，先申请总的内存空间，然后一次性将所有的字符串复制到内存中，所以时间复杂度近似为O(n)  "
   ]
  },
  {
   "cell_type": "code",
   "execution_count": 60,
   "metadata": {},
   "outputs": [],
   "source": [
    "str1,str2,str3 = 'testing','string','concatenation'"
   ]
  },
  {
   "cell_type": "code",
   "execution_count": 80,
   "metadata": {},
   "outputs": [],
   "source": [
    "strlist = [str(n) for n in range(1000)]"
   ]
  },
  {
   "cell_type": "code",
   "execution_count": 61,
   "metadata": {},
   "outputs": [],
   "source": [
    "import timeit"
   ]
  },
  {
   "cell_type": "markdown",
   "metadata": {},
   "source": [
    "两种方式对比可见，使用join方式时间明显小于拼接字符串的形式"
   ]
  },
  {
   "cell_type": "code",
   "execution_count": 96,
   "metadata": {},
   "outputs": [],
   "source": [
    "def plusTest(strlist):\n",
    "    result = ''\n",
    "    for i in strlist:\n",
    "        result += i\n",
    "    return result"
   ]
  },
  {
   "cell_type": "code",
   "execution_count": 97,
   "metadata": {
    "scrolled": true
   },
   "outputs": [
    {
     "name": "stdout",
     "output_type": "stream",
     "text": [
      "210 µs ± 14.8 µs per loop (mean ± std. dev. of 7 runs, 1000 loops each)\n"
     ]
    }
   ],
   "source": [
    "%timeit plusTest(strlist)"
   ]
  },
  {
   "cell_type": "code",
   "execution_count": 98,
   "metadata": {},
   "outputs": [
    {
     "name": "stdout",
     "output_type": "stream",
     "text": [
      "7.29 µs ± 84.4 ns per loop (mean ± std. dev. of 7 runs, 100000 loops each)\n"
     ]
    }
   ],
   "source": [
    "%timeit ''.join(strlist)"
   ]
  },
  {
   "cell_type": "markdown",
   "metadata": {},
   "source": [
    "#### 建议28.格式化字符串时尽量使用.format方式而不是%"
   ]
  },
  {
   "cell_type": "markdown",
   "metadata": {},
   "source": [
    "%操作符的几种常见用法"
   ]
  },
  {
   "cell_type": "code",
   "execution_count": 102,
   "metadata": {},
   "outputs": [
    {
     "name": "stdout",
     "output_type": "stream",
     "text": [
      "your score is 0009.5\n"
     ]
    }
   ],
   "source": [
    "#直接格式化字符或数值\n",
    "print('your score is %06.1f'%9.5)"
   ]
  },
  {
   "cell_type": "code",
   "execution_count": 103,
   "metadata": {},
   "outputs": [
    {
     "name": "stdout",
     "output_type": "stream",
     "text": [
      "the circumference of a circle with radius 3.000000 is 18.850\n"
     ]
    }
   ],
   "source": [
    "#以元组的形式格式化\n",
    "import math\n",
    "itemname = 'circumference'\n",
    "radius = 3\n",
    "print('the %s of a circle with radius %f is %0.3f'%(itemname,radius,math.pi*radius*2))"
   ]
  },
  {
   "cell_type": "code",
   "execution_count": 104,
   "metadata": {},
   "outputs": [
    {
     "name": "stdout",
     "output_type": "stream",
     "text": [
      "the circumference of a circle with radius 3.000000 is 18.850\n"
     ]
    }
   ],
   "source": [
    "#以字典的形式格式化\n",
    "itemdict = {'itemname':'circumference','radius':3,'value':math.pi*radius*2}\n",
    "print(\"the %(itemname)s of a circle with radius %(radius)f is %(value)0.3f\"%itemdict)"
   ]
  },
  {
   "cell_type": "markdown",
   "metadata": {},
   "source": [
    ".format操作符的几种常见用法"
   ]
  },
  {
   "cell_type": "code",
   "execution_count": 105,
   "metadata": {},
   "outputs": [
    {
     "name": "stdout",
     "output_type": "stream",
     "text": [
      "The number 4,746 in hex is : 0x128a,the number 45 in oct is 0o55\n"
     ]
    }
   ],
   "source": [
    "#使用位置符号\n",
    "print(\"The number {0:,} in hex is : {0:#x},the number {1} in oct is {1:#o}\".format(4746,45))"
   ]
  },
  {
   "cell_type": "code",
   "execution_count": 106,
   "metadata": {},
   "outputs": [
    {
     "name": "stdout",
     "output_type": "stream",
     "text": [
      "the max number is 189,the min number is 12.6,the average number is 23.500\n"
     ]
    }
   ],
   "source": [
    "#使用名称\n",
    "print(\"the max number is {max},the min number is {min},the average number is {average:0.3f}\".format(max = 189,min = 12.6,average = 23.5))"
   ]
  },
  {
   "cell_type": "code",
   "execution_count": 108,
   "metadata": {},
   "outputs": [
    {
     "data": {
      "text/plain": [
       "'Customer(Lisa,Female,67889)'"
      ]
     },
     "execution_count": 108,
     "metadata": {},
     "output_type": "execute_result"
    }
   ],
   "source": [
    "#通过属性\n",
    "class Customer(object):\n",
    "    def __init__(self,name,gender,phone):\n",
    "        self.name = name\n",
    "        self.gender = gender\n",
    "        self.phone = phone\n",
    "    def __str__(self):\n",
    "        return 'Customer({self.name},{self.gender},{self.phone})'.format(self = self)\n",
    "\n",
    "str(Customer('Lisa','Female','67889'))"
   ]
  },
  {
   "cell_type": "code",
   "execution_count": 107,
   "metadata": {},
   "outputs": [
    {
     "data": {
      "text/plain": [
       "'x:1,y:3'"
      ]
     },
     "execution_count": 107,
     "metadata": {},
     "output_type": "execute_result"
    }
   ],
   "source": [
    "#格式化元组具体项\n",
    "point = (1,3)\n",
    "\"x:{0[0]},y:{0[1]}\".format(point)"
   ]
  },
  {
   "cell_type": "markdown",
   "metadata": {},
   "source": [
    "理由一：format方式在使用上较%操作符更为灵活；  \n",
    "理由二：format方式可以方便地作为参数传递；  \n",
    "理由三：%最终会被.format方式所代替；  \n",
    "理由四：%在某些情况下使用需要小心，例如：如果字符是一个元组,需要加一个逗号"
   ]
  },
  {
   "cell_type": "code",
   "execution_count": 109,
   "metadata": {},
   "outputs": [
    {
     "ename": "TypeError",
     "evalue": "not all arguments converted during string formatting",
     "output_type": "error",
     "traceback": [
      "\u001b[1;31m---------------------------------------------------------------------------\u001b[0m",
      "\u001b[1;31mTypeError\u001b[0m                                 Traceback (most recent call last)",
      "\u001b[1;32m<ipython-input-109-ef74a66248c2>\u001b[0m in \u001b[0;36m<module>\u001b[1;34m\u001b[0m\n\u001b[0;32m      1\u001b[0m \u001b[0mitemname\u001b[0m \u001b[1;33m=\u001b[0m \u001b[1;33m(\u001b[0m\u001b[1;34m'mouse'\u001b[0m\u001b[1;33m,\u001b[0m\u001b[1;34m'mobilephone'\u001b[0m\u001b[1;33m,\u001b[0m\u001b[1;34m'cup'\u001b[0m\u001b[1;33m)\u001b[0m\u001b[1;33m\u001b[0m\u001b[1;33m\u001b[0m\u001b[0m\n\u001b[1;32m----> 2\u001b[1;33m \u001b[0mprint\u001b[0m\u001b[1;33m(\u001b[0m\u001b[1;34m\"itemlist are %s\"\u001b[0m\u001b[1;33m%\u001b[0m\u001b[0mitemname\u001b[0m\u001b[1;33m)\u001b[0m\u001b[1;33m\u001b[0m\u001b[1;33m\u001b[0m\u001b[0m\n\u001b[0m",
      "\u001b[1;31mTypeError\u001b[0m: not all arguments converted during string formatting"
     ]
    }
   ],
   "source": [
    "itemname = ('mouse','mobilephone','cup')\n",
    "print(\"itemlist are %s\"%itemname)"
   ]
  },
  {
   "cell_type": "code",
   "execution_count": 110,
   "metadata": {},
   "outputs": [
    {
     "name": "stdout",
     "output_type": "stream",
     "text": [
      "itemlist are ('mouse', 'mobilephone', 'cup')\n"
     ]
    }
   ],
   "source": [
    "itemname = ('mouse','mobilephone','cup')\n",
    "print(\"itemlist are %s\"%(itemname,))"
   ]
  },
  {
   "cell_type": "markdown",
   "metadata": {},
   "source": [
    "#### 建议29.区别对待可变对象和不可变对象"
   ]
  },
  {
   "cell_type": "markdown",
   "metadata": {},
   "source": [
    "数字、字符串、元组属于不可变对象；  \n",
    "字典、列表、字节数组属于可变对象。  "
   ]
  },
  {
   "cell_type": "markdown",
   "metadata": {},
   "source": [
    "深拷贝和浅拷贝"
   ]
  },
  {
   "cell_type": "code",
   "execution_count": 111,
   "metadata": {},
   "outputs": [],
   "source": [
    "list1 = list2 = ['a','b','c']"
   ]
  },
  {
   "cell_type": "code",
   "execution_count": 112,
   "metadata": {},
   "outputs": [],
   "source": [
    "list1.append('d')"
   ]
  },
  {
   "cell_type": "code",
   "execution_count": 113,
   "metadata": {},
   "outputs": [
    {
     "data": {
      "text/plain": [
       "['a', 'b', 'c', 'd']"
      ]
     },
     "execution_count": 113,
     "metadata": {},
     "output_type": "execute_result"
    }
   ],
   "source": [
    "list2"
   ]
  },
  {
   "cell_type": "code",
   "execution_count": 114,
   "metadata": {},
   "outputs": [],
   "source": [
    "#切片操作实际会重新生成一个对象\n",
    "list3 = list1[:]"
   ]
  },
  {
   "cell_type": "code",
   "execution_count": 115,
   "metadata": {},
   "outputs": [],
   "source": [
    "list3.remove('a')"
   ]
  },
  {
   "cell_type": "code",
   "execution_count": 116,
   "metadata": {},
   "outputs": [
    {
     "data": {
      "text/plain": [
       "['b', 'c', 'd']"
      ]
     },
     "execution_count": 116,
     "metadata": {},
     "output_type": "execute_result"
    }
   ],
   "source": [
    "list3"
   ]
  },
  {
   "cell_type": "code",
   "execution_count": 117,
   "metadata": {},
   "outputs": [
    {
     "data": {
      "text/plain": [
       "['a', 'b', 'c', 'd']"
      ]
     },
     "execution_count": 117,
     "metadata": {},
     "output_type": "execute_result"
    }
   ],
   "source": [
    "list1"
   ]
  },
  {
   "cell_type": "markdown",
   "metadata": {},
   "source": [
    "#### 建议30.[]、（）和{}：一致的容器初始化形式"
   ]
  },
  {
   "cell_type": "markdown",
   "metadata": {},
   "source": [
    "利用列表表达式来简化代码,以下两段代码意义是一样的"
   ]
  },
  {
   "cell_type": "code",
   "execution_count": 118,
   "metadata": {},
   "outputs": [
    {
     "name": "stdout",
     "output_type": "stream",
     "text": [
      "[' Are', 'Passion', 'Business']\n"
     ]
    }
   ],
   "source": [
    "words = [' Are',' abandon','Passion','Business',' fruit','quit']\n",
    "\n",
    "size = len(words)\n",
    "newlist = []\n",
    "for i in range(size):\n",
    "    if words[i].strip().istitle():\n",
    "        newlist.append(words[i])\n",
    "print(newlist)"
   ]
  },
  {
   "cell_type": "code",
   "execution_count": 119,
   "metadata": {},
   "outputs": [
    {
     "data": {
      "text/plain": [
       "[' Are', 'Passion', 'Business']"
      ]
     },
     "execution_count": 119,
     "metadata": {},
     "output_type": "execute_result"
    }
   ],
   "source": [
    "[i for i in words if i.strip().istitle()]"
   ]
  },
  {
   "cell_type": "markdown",
   "metadata": {},
   "source": [
    "#### 建议31.记住函数传参既不是传值也不是传应用"
   ]
  },
  {
   "cell_type": "markdown",
   "metadata": {},
   "source": [
    "对于Python函数传参，既不是传参也不是传引用。正确的叫法应该是传对象或者说传对象的引用。"
   ]
  },
  {
   "cell_type": "markdown",
   "metadata": {},
   "source": [
    "#### 建议32.警惕默认参数潜在的问题"
   ]
  },
  {
   "cell_type": "markdown",
   "metadata": {},
   "source": [
    "#### 建议33.慎用变长参数"
   ]
  },
  {
   "cell_type": "markdown",
   "metadata": {},
   "source": [
    "Python支持可变长度的参数列表"
   ]
  },
  {
   "cell_type": "code",
   "execution_count": 121,
   "metadata": {},
   "outputs": [],
   "source": [
    "#使用*args来实现可变参数列表\n",
    "\n",
    "def SumFun(*args):\n",
    "    result = 0\n",
    "    for x in args[0:]:\n",
    "        result += x\n",
    "    return result    "
   ]
  },
  {
   "cell_type": "code",
   "execution_count": 122,
   "metadata": {
    "scrolled": true
   },
   "outputs": [
    {
     "name": "stdout",
     "output_type": "stream",
     "text": [
      "5\n"
     ]
    }
   ],
   "source": [
    "print(SumFun(2,3,))"
   ]
  },
  {
   "cell_type": "code",
   "execution_count": 123,
   "metadata": {},
   "outputs": [
    {
     "name": "stdout",
     "output_type": "stream",
     "text": [
      "9\n"
     ]
    }
   ],
   "source": [
    "print(SumFun(2,3,4))"
   ]
  },
  {
   "cell_type": "code",
   "execution_count": 124,
   "metadata": {},
   "outputs": [
    {
     "name": "stdout",
     "output_type": "stream",
     "text": [
      "0\n"
     ]
    }
   ],
   "source": [
    "print(SumFun())"
   ]
  },
  {
   "cell_type": "code",
   "execution_count": 125,
   "metadata": {},
   "outputs": [],
   "source": [
    "#实用**kwargs接受字典形式的关键词参数列表\n",
    "\n",
    "def category_table(**kwargs):\n",
    "    for name,value in kwargs.items():\n",
    "        print(\"{0} is a kind of {1}\".format(name,value))"
   ]
  },
  {
   "cell_type": "code",
   "execution_count": 126,
   "metadata": {},
   "outputs": [
    {
     "name": "stdout",
     "output_type": "stream",
     "text": [
      "apple is a kind of fruit\n",
      "carrot is a kind of vegetable\n",
      "Python is a kind of programming language\n"
     ]
    }
   ],
   "source": [
    "category_table(apple ='fruit',carrot = 'vegetable',Python = 'programming language')"
   ]
  },
  {
   "cell_type": "markdown",
   "metadata": {},
   "source": [
    "慎用可变长度参数的原因是：  \n",
    "1.使用过于灵活；    \n",
    "2.如果一个函数的参数列表很长，可以通过使用*args和*kwargs来简化函数，通常意味着这个函数有更好的实现方式；    "
   ]
  },
  {
   "cell_type": "markdown",
   "metadata": {},
   "source": [
    "可变长参数适合在下列情况使用（不仅限于下列场景）：  \n",
    "1.为函数添加一个装饰器；  \n",
    "2.如果参数数目不确定，可以考虑使用变长参数；  \n",
    "3.用来实现函数的多态或者在继承情况下子类需要调用父类的某些方法的时候。  "
   ]
  },
  {
   "cell_type": "markdown",
   "metadata": {},
   "source": [
    "#### 建议34.深入理解str()和repr()的区别"
   ]
  },
  {
   "cell_type": "markdown",
   "metadata": {},
   "source": [
    "repr和str对于大多数数据类型的输出基本一致，但是他们也存在一些区别：  \n",
    "1.两者间的目标不同：str()主要面向用户，其目的是可读性；而repr()面向的是Python解释器，或者是开发人员；  \n",
    "2.在解释器中直接输入a时，默认调用repr()函数，而print a则调用str()函数；  \n",
    "3.repr()的返回值一般可以用eval()函数来还原对象：  \n",
    "obj == eval(repr(obj))  \n",
    "而str()则不行：obj != eval(str(obj))  \n",
    "4.两个方法分别调用内建的__str__()和__repr__().一般来说在类中都应该定义__repr__()方法，而__str__()方法则为可选，  \n",
    "当可读性比准确性更重要的时候应该考虑定义__str()__  "
   ]
  },
  {
   "cell_type": "markdown",
   "metadata": {},
   "source": [
    "#### 建议35.分清statismethod和classmethod的使用场景"
   ]
  },
  {
   "cell_type": "markdown",
   "metadata": {},
   "source": [
    "静态方法和类方法都可以通过类名.方法名的形式来访问。  \n",
    "静态方法没有常规方法的特殊行为，如绑定、非绑定、隐式参数等规则。  \n",
    "类方法的调用使得类本身作为其`隐含参数`，但调用本身并不需要显示提供该参数。  "
   ]
  },
  {
   "cell_type": "code",
   "execution_count": 135,
   "metadata": {},
   "outputs": [],
   "source": [
    "class Fruit(object):\n",
    "    total = 0\n",
    "    @classmethod\n",
    "    def print_total(cls):\n",
    "        print(cls.total)\n",
    "    @classmethod\n",
    "    def set(cls,value):\n",
    "        print(\"classing class_method(%s,%s)\"%(cls,value))\n",
    "        cls.total = value\n",
    "\n",
    "class Apple(Fruit):\n",
    "    pass\n",
    "\n",
    "class Orange(Fruit):\n",
    "    pass"
   ]
  },
  {
   "cell_type": "code",
   "execution_count": 136,
   "metadata": {},
   "outputs": [
    {
     "name": "stdout",
     "output_type": "stream",
     "text": [
      "classing class_method(<class '__main__.Apple'>,200)\n",
      "classing class_method(<class '__main__.Orange'>,300)\n"
     ]
    }
   ],
   "source": [
    "app1 =Apple()\n",
    "app1.set(200)\n",
    "app2 = Apple()\n",
    "org1 =Orange()\n",
    "org1.set(300)\n",
    "org2 = Orange()"
   ]
  },
  {
   "cell_type": "code",
   "execution_count": 137,
   "metadata": {},
   "outputs": [
    {
     "name": "stdout",
     "output_type": "stream",
     "text": [
      "200\n"
     ]
    }
   ],
   "source": [
    "app1.print_total()"
   ]
  },
  {
   "cell_type": "code",
   "execution_count": 138,
   "metadata": {},
   "outputs": [
    {
     "name": "stdout",
     "output_type": "stream",
     "text": [
      "200\n"
     ]
    }
   ],
   "source": [
    "app2.print_total()"
   ]
  },
  {
   "cell_type": "code",
   "execution_count": 139,
   "metadata": {},
   "outputs": [
    {
     "name": "stdout",
     "output_type": "stream",
     "text": [
      "300\n"
     ]
    }
   ],
   "source": [
    "org1.print_total()"
   ]
  },
  {
   "cell_type": "code",
   "execution_count": 140,
   "metadata": {},
   "outputs": [
    {
     "name": "stdout",
     "output_type": "stream",
     "text": [
      "300\n"
     ]
    }
   ],
   "source": [
    "org2.print_total()"
   ]
  },
  {
   "cell_type": "markdown",
   "metadata": {},
   "source": [
    "## 第4章 库"
   ]
  },
  {
   "cell_type": "markdown",
   "metadata": {},
   "source": [
    "#### 建议36.掌握字符串的基本用法"
   ]
  },
  {
   "cell_type": "markdown",
   "metadata": {},
   "source": [
    "Python遇到未闭合的小括号时会自动将多行代码拼接为一行和把相邻的两个字符串字面量拼接在一起"
   ]
  },
  {
   "cell_type": "code",
   "execution_count": 143,
   "metadata": {},
   "outputs": [],
   "source": [
    "s = ('SELECT * '\n",
    "    'FROM atable '\n",
    "    'WHERE afield=\"value\"')"
   ]
  },
  {
   "cell_type": "code",
   "execution_count": 144,
   "metadata": {
    "scrolled": true
   },
   "outputs": [
    {
     "data": {
      "text/plain": [
       "'SELECT * FROM atable WHERE afield=\"value\"'"
      ]
     },
     "execution_count": 144,
     "metadata": {},
     "output_type": "execute_result"
    }
   ],
   "source": [
    "s"
   ]
  },
  {
   "cell_type": "markdown",
   "metadata": {},
   "source": [
    "判断一个变量是不是字符串应该使用basestring，它是str和unicode的基类。  \n",
    "但python3 里已经没有basestring 类型，用str代替了basestring"
   ]
  },
  {
   "cell_type": "code",
   "execution_count": 145,
   "metadata": {},
   "outputs": [],
   "source": [
    "a,b = 'Hi',u'Hi'"
   ]
  },
  {
   "cell_type": "code",
   "execution_count": 147,
   "metadata": {},
   "outputs": [
    {
     "data": {
      "text/plain": [
       "True"
      ]
     },
     "execution_count": 147,
     "metadata": {},
     "output_type": "execute_result"
    }
   ],
   "source": [
    "isinstance(a,str)"
   ]
  },
  {
   "cell_type": "code",
   "execution_count": 150,
   "metadata": {
    "scrolled": true
   },
   "outputs": [
    {
     "data": {
      "text/plain": [
       "True"
      ]
     },
     "execution_count": 150,
     "metadata": {},
     "output_type": "execute_result"
    }
   ],
   "source": [
    "isinstance(b,str)"
   ]
  },
  {
   "cell_type": "markdown",
   "metadata": {},
   "source": [
    "split(sep)  \n",
    "当忽略sep参数或sep参数为None时与明确给sep赋予字符串值时，split()采用两种不同的算法。  \n",
    "前者，split()先去除字符串两端的空白符，然后以任意长度的空白符串作为界定符分切字符串。  \n",
    "后者，则认为两个连续的sep之间存在一个空字符串。  "
   ]
  },
  {
   "cell_type": "code",
   "execution_count": 151,
   "metadata": {},
   "outputs": [
    {
     "data": {
      "text/plain": [
       "['hello', 'world']"
      ]
     },
     "execution_count": 151,
     "metadata": {},
     "output_type": "execute_result"
    }
   ],
   "source": [
    "' hello world'.split()"
   ]
  },
  {
   "cell_type": "code",
   "execution_count": 152,
   "metadata": {},
   "outputs": [
    {
     "data": {
      "text/plain": [
       "['', 'hello', 'world']"
      ]
     },
     "execution_count": 152,
     "metadata": {},
     "output_type": "execute_result"
    }
   ],
   "source": [
    "' hello world'.split(' ')"
   ]
  },
  {
   "cell_type": "markdown",
   "metadata": {},
   "source": [
    "title()  \n",
    "将一个单词的首字母大写，非首字母转化成小写"
   ]
  },
  {
   "cell_type": "code",
   "execution_count": 153,
   "metadata": {},
   "outputs": [
    {
     "data": {
      "text/plain": [
       "'Hello World!'"
      ]
     },
     "execution_count": 153,
     "metadata": {},
     "output_type": "execute_result"
    }
   ],
   "source": [
    "'hello wOrld!'.title()"
   ]
  },
  {
   "cell_type": "markdown",
   "metadata": {},
   "source": [
    "#### 建议37.按需选择sort()或者sorted()"
   ]
  },
  {
   "cell_type": "markdown",
   "metadata": {},
   "source": [
    "相比于sort(),sorted()使用范围更加广泛。  \n",
    "sorted()作用于任意可迭代的对象，而sort()一般作用于列表"
   ]
  },
  {
   "cell_type": "code",
   "execution_count": 16,
   "metadata": {},
   "outputs": [],
   "source": [
    "a = [1,2,4,3,5]"
   ]
  },
  {
   "cell_type": "code",
   "execution_count": 17,
   "metadata": {
    "scrolled": true
   },
   "outputs": [],
   "source": [
    "a.sort()"
   ]
  },
  {
   "cell_type": "code",
   "execution_count": 18,
   "metadata": {
    "scrolled": false
   },
   "outputs": [
    {
     "data": {
      "text/plain": [
       "[1, 2, 3, 4, 5]"
      ]
     },
     "execution_count": 18,
     "metadata": {},
     "output_type": "execute_result"
    }
   ],
   "source": [
    "a"
   ]
  },
  {
   "cell_type": "code",
   "execution_count": 19,
   "metadata": {},
   "outputs": [
    {
     "data": {
      "text/plain": [
       "[1, 2, 3, 4, 5]"
      ]
     },
     "execution_count": 19,
     "metadata": {},
     "output_type": "execute_result"
    }
   ],
   "source": [
    "sorted(a)"
   ]
  },
  {
   "cell_type": "code",
   "execution_count": 20,
   "metadata": {},
   "outputs": [],
   "source": [
    "b = a.sort()\n",
    "c = sorted(a)"
   ]
  },
  {
   "cell_type": "code",
   "execution_count": 9,
   "metadata": {},
   "outputs": [],
   "source": [
    "#b返回的是空值\n",
    "b"
   ]
  },
  {
   "cell_type": "code",
   "execution_count": 10,
   "metadata": {},
   "outputs": [
    {
     "data": {
      "text/plain": [
       "[1, 2, 3, 4, 5]"
      ]
     },
     "execution_count": 10,
     "metadata": {},
     "output_type": "execute_result"
    }
   ],
   "source": [
    "#c返回排序过的列表\n",
    "c"
   ]
  },
  {
   "cell_type": "markdown",
   "metadata": {},
   "source": [
    "如果a是一个元组，则无法用sort()进行排序"
   ]
  },
  {
   "cell_type": "code",
   "execution_count": 21,
   "metadata": {},
   "outputs": [
    {
     "ename": "AttributeError",
     "evalue": "'tuple' object has no attribute 'sort'",
     "output_type": "error",
     "traceback": [
      "\u001b[1;31m---------------------------------------------------------------------------\u001b[0m",
      "\u001b[1;31mAttributeError\u001b[0m                            Traceback (most recent call last)",
      "\u001b[1;32m<ipython-input-21-c9498ddce2bb>\u001b[0m in \u001b[0;36m<module>\u001b[1;34m\u001b[0m\n\u001b[1;32m----> 1\u001b[1;33m \u001b[1;33m(\u001b[0m\u001b[1;36m1\u001b[0m\u001b[1;33m,\u001b[0m\u001b[1;36m3\u001b[0m\u001b[1;33m,\u001b[0m\u001b[1;36m2\u001b[0m\u001b[1;33m,\u001b[0m\u001b[1;36m5\u001b[0m\u001b[1;33m,\u001b[0m\u001b[1;36m4\u001b[0m\u001b[1;33m)\u001b[0m\u001b[1;33m.\u001b[0m\u001b[0msort\u001b[0m\u001b[1;33m(\u001b[0m\u001b[1;33m)\u001b[0m\u001b[1;33m\u001b[0m\u001b[1;33m\u001b[0m\u001b[0m\n\u001b[0m",
      "\u001b[1;31mAttributeError\u001b[0m: 'tuple' object has no attribute 'sort'"
     ]
    }
   ],
   "source": [
    "(1,3,2,5,4).sort()"
   ]
  },
  {
   "cell_type": "markdown",
   "metadata": {},
   "source": [
    "sorted还可以对不同的数据结构进行排序："
   ]
  },
  {
   "cell_type": "code",
   "execution_count": 26,
   "metadata": {},
   "outputs": [],
   "source": [
    "from operator import itemgetter"
   ]
  },
  {
   "cell_type": "code",
   "execution_count": 24,
   "metadata": {},
   "outputs": [
    {
     "data": {
      "text/plain": [
       "[('Carol', '5834'), ('Linda', '7750'), ('Bob', '9345')]"
      ]
     },
     "execution_count": 24,
     "metadata": {},
     "output_type": "execute_result"
    }
   ],
   "source": [
    "#对字典进行排序\n",
    "#python3.5后，将 'iteritems'改成了'items'\n",
    "phonebook = {\"Linda\":'7750',\"Bob\":'9345',\"Carol\":'5834'}\n",
    "\n",
    "sorted_pb = sorted(phonebook.items(),key = itemgetter(1))\n",
    "\n",
    "sorted_pb"
   ]
  },
  {
   "cell_type": "code",
   "execution_count": 29,
   "metadata": {},
   "outputs": [
    {
     "data": {
      "text/plain": [
       "[['Mandy', 82.5, 'A'], ['Bob', 95, 'A'], ['Alan', 86, 'C'], ['Rob', 86, 'E']]"
      ]
     },
     "execution_count": 29,
     "metadata": {},
     "output_type": "execute_result"
    }
   ],
   "source": [
    "#多维list排序\n",
    "\n",
    "gameresult = [['Bob',95,'A'],['Alan',86,'C'],['Mandy',82.5,'A'],['Rob',86,'E']]\n",
    "\n",
    "sorted(gameresult,key = itemgetter(2,1))"
   ]
  },
  {
   "cell_type": "code",
   "execution_count": 42,
   "metadata": {},
   "outputs": [],
   "source": [
    "#字典中混合list排序\n",
    "mydict = {\"Li\":['M',7],\n",
    "          \"Zhang\":['E',2],\n",
    "          \"Wang\":['P',3],\n",
    "          \"Du\":['C',2],\n",
    "          \"Ma\":['C',9],\n",
    "          \"Zhe\":['H',7]\n",
    "}"
   ]
  },
  {
   "cell_type": "code",
   "execution_count": 43,
   "metadata": {},
   "outputs": [
    {
     "ename": "SyntaxError",
     "evalue": "invalid syntax (<ipython-input-43-745070fd1daa>, line 1)",
     "output_type": "error",
     "traceback": [
      "\u001b[1;36m  File \u001b[1;32m\"<ipython-input-43-745070fd1daa>\"\u001b[1;36m, line \u001b[1;32m1\u001b[0m\n\u001b[1;33m    sorted(mydict.items(), key=lambda (k,v): operator.itemgetter(1)(v))\u001b[0m\n\u001b[1;37m                                      ^\u001b[0m\n\u001b[1;31mSyntaxError\u001b[0m\u001b[1;31m:\u001b[0m invalid syntax\n"
     ]
    }
   ],
   "source": [
    "sorted(mydict.items(), key=lambda (k,v): operator.itemgetter(1)(v))"
   ]
  },
  {
   "cell_type": "code",
   "execution_count": 35,
   "metadata": {},
   "outputs": [
    {
     "data": {
      "text/plain": [
       "[{'name': 'Carol', 'wins': 4, 'losses': 5, 'rating': 57.0},\n",
       " {'name': 'David', 'wins': 3, 'losses': 5, 'rating': 57.0},\n",
       " {'name': 'Patty', 'wins': 9, 'losses': 3, 'rating': 71.48},\n",
       " {'name': 'Bob', 'wins': 10, 'losses': 3, 'rating': 75.0}]"
      ]
     },
     "execution_count": 35,
     "metadata": {},
     "output_type": "execute_result"
    }
   ],
   "source": [
    "#List 中混合字典排序\n",
    "gameresult = [{ \"name\":\"Bob\", \"wins\":10, \"losses\":3, \"rating\":75.00 },\n",
    "{ \"name\":\"David\", \"wins\":3, \"losses\":5, \"rating\":57.00 },\n",
    "{ \"name\":\"Carol\", \"wins\":4, \"losses\":5, \"rating\":57.00 },\n",
    "{ \"name\":\"Patty\", \"wins\":9, \"losses\":3, \"rating\": 71.48 }]\n",
    "\n",
    "#针对list 中的字典元素按照rating 和name进行排序的实现方法。\n",
    "sorted(gameresult , key=itemgetter(\"rating\",\"name\"))"
   ]
  },
  {
   "cell_type": "markdown",
   "metadata": {},
   "source": [
    "#### 建议38.使用copy模块深拷贝对象"
   ]
  },
  {
   "cell_type": "code",
   "execution_count": 1,
   "metadata": {},
   "outputs": [],
   "source": [
    "import copy"
   ]
  },
  {
   "cell_type": "code",
   "execution_count": 2,
   "metadata": {},
   "outputs": [],
   "source": [
    "a=[1,2,3,4,5,['a','b']]"
   ]
  },
  {
   "cell_type": "code",
   "execution_count": 6,
   "metadata": {},
   "outputs": [],
   "source": [
    "b = a\n",
    "#浅拷贝\n",
    "c=copy.copy(a)\n",
    "#深拷贝\n",
    "d=copy.deepcopy(a)"
   ]
  },
  {
   "cell_type": "code",
   "execution_count": 8,
   "metadata": {},
   "outputs": [
    {
     "name": "stdout",
     "output_type": "stream",
     "text": [
      "a= [1, 2, 3, 4, 5, ['a', 'b']]     id(a)= 2146257876488 id(a[5])= 2146289220552\n",
      "b= [1, 2, 3, 4, 5, ['a', 'b']]     id(b)= 2146257876488 id(b[5])= 2146289220552\n",
      "c= [1, 2, 3, 4, 5, ['a', 'b']]     id(c)= 2146289269320 id(c[5])= 2146289220552\n",
      "d= [1, 2, 3, 4, 5, ['a', 'b']]     id(d)= 2146290430792 id(d[5])= 2146290430920\n"
     ]
    }
   ],
   "source": [
    "print(\"a=\",a,\"    id(a)=\",id(a),\"id(a[5])=\",id(a[5]))\n",
    "print(\"b=\",b,\"    id(b)=\",id(b),\"id(b[5])=\",id(b[5]))\n",
    "print(\"c=\",c,\"    id(c)=\",id(c),\"id(c[5])=\",id(c[5]))\n",
    "print(\"d=\",d,\"    id(d)=\",id(d),\"id(d[5])=\",id(d[5]))"
   ]
  },
  {
   "cell_type": "code",
   "execution_count": 9,
   "metadata": {},
   "outputs": [],
   "source": [
    "c[5].append(\"c\")"
   ]
  },
  {
   "cell_type": "code",
   "execution_count": 10,
   "metadata": {},
   "outputs": [
    {
     "data": {
      "text/plain": [
       "[1, 2, 3, 4, 5, ['a', 'b', 'c']]"
      ]
     },
     "execution_count": 10,
     "metadata": {},
     "output_type": "execute_result"
    }
   ],
   "source": [
    "a"
   ]
  },
  {
   "cell_type": "code",
   "execution_count": 11,
   "metadata": {},
   "outputs": [
    {
     "data": {
      "text/plain": [
       "[1, 2, 3, 4, 5, ['a', 'b', 'c']]"
      ]
     },
     "execution_count": 11,
     "metadata": {},
     "output_type": "execute_result"
    }
   ],
   "source": [
    "b"
   ]
  },
  {
   "cell_type": "code",
   "execution_count": 12,
   "metadata": {},
   "outputs": [
    {
     "data": {
      "text/plain": [
       "[1, 2, 3, 4, 5, ['a', 'b', 'c']]"
      ]
     },
     "execution_count": 12,
     "metadata": {},
     "output_type": "execute_result"
    }
   ],
   "source": [
    "c"
   ]
  },
  {
   "cell_type": "code",
   "execution_count": 13,
   "metadata": {},
   "outputs": [
    {
     "data": {
      "text/plain": [
       "[1, 2, 3, 4, 5, ['a', 'b']]"
      ]
     },
     "execution_count": 13,
     "metadata": {},
     "output_type": "execute_result"
    }
   ],
   "source": [
    "d"
   ]
  },
  {
   "cell_type": "markdown",
   "metadata": {},
   "source": [
    "copy.copy()得到的customer2是customer1的一个浅拷贝，它仅仅拷贝了被拷贝对象的地址，而不是对应地址的具体内容。  \n",
    "如上b,c都只是浅拷贝的两种方式，它们的内容和a是一模一样的。  \n",
    "\n",
    "而d是深拷贝，深拷贝不仅拷贝引用，也拷贝引用所指的对象，因此深拷贝的对象和原对象是相互独立的。"
   ]
  },
  {
   "cell_type": "markdown",
   "metadata": {},
   "source": [
    "#### 建议39.使用Counter进行计数统计"
   ]
  },
  {
   "cell_type": "markdown",
   "metadata": {},
   "source": [
    "使用collections.Counter来进行计数，一种pythonic的方法。"
   ]
  },
  {
   "cell_type": "code",
   "execution_count": 14,
   "metadata": {},
   "outputs": [],
   "source": [
    "from collections import Counter"
   ]
  },
  {
   "cell_type": "code",
   "execution_count": 15,
   "metadata": {},
   "outputs": [],
   "source": [
    "some_data = ['a','2',2,4,5,'2','b',4,7,'a',5,'d','a','z']"
   ]
  },
  {
   "cell_type": "code",
   "execution_count": 16,
   "metadata": {},
   "outputs": [
    {
     "data": {
      "text/plain": [
       "Counter({'a': 3, '2': 2, 2: 1, 4: 2, 5: 2, 'b': 1, 7: 1, 'd': 1, 'z': 1})"
      ]
     },
     "execution_count": 16,
     "metadata": {},
     "output_type": "execute_result"
    }
   ],
   "source": [
    "Counter(some_data)"
   ]
  },
  {
   "cell_type": "code",
   "execution_count": 17,
   "metadata": {},
   "outputs": [
    {
     "data": {
      "text/plain": [
       "Counter({'s': 3, 'u': 1, 'c': 2, 'e': 1})"
      ]
     },
     "execution_count": 17,
     "metadata": {},
     "output_type": "execute_result"
    }
   ],
   "source": [
    "Counter(\"success\")"
   ]
  },
  {
   "cell_type": "code",
   "execution_count": 19,
   "metadata": {},
   "outputs": [
    {
     "data": {
      "text/plain": [
       "['s', 's', 's', 'u', 'c', 'c', 'e']"
      ]
     },
     "execution_count": 19,
     "metadata": {},
     "output_type": "execute_result"
    }
   ],
   "source": [
    "list(Counter(\"success\").elements())"
   ]
  },
  {
   "cell_type": "code",
   "execution_count": 20,
   "metadata": {},
   "outputs": [
    {
     "data": {
      "text/plain": [
       "[('s', 3), ('c', 2)]"
      ]
     },
     "execution_count": 20,
     "metadata": {},
     "output_type": "execute_result"
    }
   ],
   "source": [
    "Counter(\"success\").most_common(2)"
   ]
  },
  {
   "cell_type": "code",
   "execution_count": 22,
   "metadata": {},
   "outputs": [
    {
     "data": {
      "text/plain": [
       "0"
      ]
     },
     "execution_count": 22,
     "metadata": {},
     "output_type": "execute_result"
    }
   ],
   "source": [
    "#当访问不存在的元素时，默认返回0而不是异常\n",
    "Counter(\"success\")['a']"
   ]
  },
  {
   "cell_type": "markdown",
   "metadata": {},
   "source": [
    "update()方法用于被统计对象元素的更新，原有Counter计数器与新增元素的统计值相加而不是替换"
   ]
  },
  {
   "cell_type": "code",
   "execution_count": 26,
   "metadata": {},
   "outputs": [],
   "source": [
    "c = Counter(\"success\")"
   ]
  },
  {
   "cell_type": "code",
   "execution_count": 27,
   "metadata": {},
   "outputs": [
    {
     "data": {
      "text/plain": [
       "Counter({'s': 3, 'u': 1, 'c': 2, 'e': 1})"
      ]
     },
     "execution_count": 27,
     "metadata": {},
     "output_type": "execute_result"
    }
   ],
   "source": [
    "c"
   ]
  },
  {
   "cell_type": "code",
   "execution_count": 28,
   "metadata": {},
   "outputs": [],
   "source": [
    "c.update('successfully')"
   ]
  },
  {
   "cell_type": "code",
   "execution_count": 29,
   "metadata": {
    "scrolled": true
   },
   "outputs": [
    {
     "data": {
      "text/plain": [
       "Counter({'s': 6, 'u': 3, 'c': 4, 'e': 2, 'f': 1, 'l': 2, 'y': 1})"
      ]
     },
     "execution_count": 29,
     "metadata": {},
     "output_type": "execute_result"
    }
   ],
   "source": [
    "c"
   ]
  },
  {
   "cell_type": "code",
   "execution_count": 31,
   "metadata": {},
   "outputs": [],
   "source": [
    "c.subtract(\"successfully\")"
   ]
  },
  {
   "cell_type": "code",
   "execution_count": 32,
   "metadata": {},
   "outputs": [
    {
     "data": {
      "text/plain": [
       "Counter({'s': 3, 'u': 1, 'c': 2, 'e': 1, 'f': 0, 'l': 0, 'y': 0})"
      ]
     },
     "execution_count": 32,
     "metadata": {},
     "output_type": "execute_result"
    }
   ],
   "source": [
    "c"
   ]
  },
  {
   "cell_type": "markdown",
   "metadata": {},
   "source": [
    "#### 建议40.深入掌握ConfigParser"
   ]
  },
  {
   "cell_type": "markdown",
   "metadata": {},
   "source": [
    "#### 建议41.使用argparse处理命令行参数"
   ]
  },
  {
   "cell_type": "markdown",
   "metadata": {},
   "source": [
    "以上两建议暂时不理解"
   ]
  },
  {
   "cell_type": "markdown",
   "metadata": {},
   "source": [
    "#### 建议42.使用pandas处理大型csv文件"
   ]
  },
  {
   "cell_type": "markdown",
   "metadata": {},
   "source": [
    "直接调用csv模块的话，读取较大的文件会出错。（import csv）  \n",
    "csv模块处理大型csv文件无能为力"
   ]
  },
  {
   "cell_type": "markdown",
   "metadata": {},
   "source": []
  },
  {
   "cell_type": "markdown",
   "metadata": {},
   "source": [
    "使用pandas模块有如下优点:  \n",
    "1.指定读取部分列和文件的行数；    \n",
    "2.设置csv文件与excel兼容；  "
   ]
  },
  {
   "cell_type": "markdown",
   "metadata": {},
   "source": [
    "3.对文件进行分开处理并返回一个可迭代对象。例如，设置chunksize=10，iterator=True时，每次输出为包含10个记录的块"
   ]
  },
  {
   "cell_type": "markdown",
   "metadata": {},
   "source": [
    "import pandas as pd  \n",
    "reader = pd.read_csv(\"name.csv\",chunksize =10,iterator = True)"
   ]
  },
  {
   "cell_type": "markdown",
   "metadata": {},
   "source": [
    "iter(reader).next() #每次读入10行"
   ]
  },
  {
   "cell_type": "markdown",
   "metadata": {},
   "source": [
    "4.当文件格式相似的时候，支持多个文件合并处理"
   ]
  },
  {
   "cell_type": "markdown",
   "metadata": {},
   "source": [
    "file = ['a.csv','b.csv','c.csv']"
   ]
  },
  {
   "cell_type": "markdown",
   "metadata": {},
   "source": [
    "dfs = [pd.read_csv(f) for f in file]"
   ]
  },
  {
   "cell_type": "markdown",
   "metadata": {},
   "source": [
    "total_df = pd.concat(dfs)"
   ]
  },
  {
   "cell_type": "markdown",
   "metadata": {},
   "source": [
    "#### 建议43.一般情况下使用ElementTree解析XML"
   ]
  },
  {
   "cell_type": "markdown",
   "metadata": {},
   "source": [
    "#### 建议44.理解模块pickle优劣"
   ]
  },
  {
   "cell_type": "markdown",
   "metadata": {},
   "source": [
    "Python中有很多支持序列化的模块，如pickle、json、Marshall和shelve等。  \n",
    "最广为人知的为pickle，最通用的序列化模块。  \n",
    "pickle最主要的两个函数对为pickle.dump():序列化数据到一个文件描述符；  \n",
    "pickle.load()表示把文件中的对象恢复为原来的对象。  "
   ]
  },
  {
   "cell_type": "code",
   "execution_count": 5,
   "metadata": {},
   "outputs": [],
   "source": [
    "import pickle\n",
    "my_data = {\"name\":\"Python\",\"type\":\"Language\",\"version\":\"2.7.5\"}"
   ]
  },
  {
   "cell_type": "code",
   "execution_count": 6,
   "metadata": {},
   "outputs": [],
   "source": [
    "#打开要写入的文件\n",
    "with open(\"picklefile.dat\",\"wb\") as fp:\n",
    "    #使用dump进行序列化\n",
    "    pickle.dump(my_data,fp)"
   ]
  },
  {
   "cell_type": "code",
   "execution_count": 8,
   "metadata": {},
   "outputs": [
    {
     "name": "stdout",
     "output_type": "stream",
     "text": [
      "{'name': 'Python', 'type': 'Language', 'version': '2.7.5'}\n"
     ]
    }
   ],
   "source": [
    "#反序列化\n",
    "with open(\"picklefile.dat\",\"rb\") as fp:\n",
    "    out = pickle.load(fp)\n",
    "    print(out)"
   ]
  },
  {
   "cell_type": "markdown",
   "metadata": {},
   "source": [
    "pickle能形成通用的序列化模块，与其良好的特性分不开，总结为如下几点："
   ]
  },
  {
   "cell_type": "markdown",
   "metadata": {},
   "source": [
    "1.接口简单，容易使用。dump()和load()可以轻易实现序列化和反序列化。"
   ]
  },
  {
   "cell_type": "markdown",
   "metadata": {},
   "source": [
    "2.pickle的存储格式具有通用性。能够在不同平台的Python解析器共享。"
   ]
  },
  {
   "cell_type": "markdown",
   "metadata": {},
   "source": [
    "3.支持的数据类型广泛。如数字、布尔值、字符串，只包含可序列化对象的元组、字典、列表等，  \n",
    "非嵌套的函数、类及通过类的__dict__或者__getstate__()可以返回序列化对象的实例等。"
   ]
  },
  {
   "cell_type": "markdown",
   "metadata": {},
   "source": [
    "4.pickle模块是可以扩展的。  \n",
    "5.能够自动维护对象间的引用，如果一个对象上存在多个引用，pickle后不会改变对象间的引用，并且能够自动处理循环和递归引用。"
   ]
  },
  {
   "cell_type": "code",
   "execution_count": 9,
   "metadata": {},
   "outputs": [],
   "source": [
    "a = ['a','b']"
   ]
  },
  {
   "cell_type": "code",
   "execution_count": 10,
   "metadata": {},
   "outputs": [],
   "source": [
    "b = a"
   ]
  },
  {
   "cell_type": "code",
   "execution_count": 11,
   "metadata": {},
   "outputs": [],
   "source": [
    "b.append('c')"
   ]
  },
  {
   "cell_type": "code",
   "execution_count": 12,
   "metadata": {},
   "outputs": [],
   "source": [
    "p = pickle.dumps((a,b))"
   ]
  },
  {
   "cell_type": "code",
   "execution_count": 13,
   "metadata": {},
   "outputs": [],
   "source": [
    "a1,b1 = pickle.loads(p)"
   ]
  },
  {
   "cell_type": "code",
   "execution_count": 14,
   "metadata": {},
   "outputs": [
    {
     "name": "stdout",
     "output_type": "stream",
     "text": [
      "['a', 'b', 'c'] \n",
      " ['a', 'b', 'c']\n"
     ]
    }
   ],
   "source": [
    "print(a1,\"\\n\",b1)"
   ]
  },
  {
   "cell_type": "code",
   "execution_count": 15,
   "metadata": {},
   "outputs": [],
   "source": [
    "a1.append('d')"
   ]
  },
  {
   "cell_type": "code",
   "execution_count": 16,
   "metadata": {},
   "outputs": [
    {
     "data": {
      "text/plain": [
       "['a', 'b', 'c', 'd']"
      ]
     },
     "execution_count": 16,
     "metadata": {},
     "output_type": "execute_result"
    }
   ],
   "source": [
    "b1"
   ]
  },
  {
   "cell_type": "markdown",
   "metadata": {},
   "source": [
    "pickle也存在一些限制:"
   ]
  },
  {
   "cell_type": "markdown",
   "metadata": {},
   "source": [
    "1.pickle不能保证操作的原子性。就是说，如果发生异常，可能部分数据已经被保存，另外对象处于深递归状态，那么可能超出Python的最大递归深度。  \n",
    "2.pickle存在安全性问题。Python文档清晰地表明，它不提供安全性保证，因此对于一个从不可信的数据源接受的数据不要轻易的进行反序列化。  \n",
    "3.pickle协议是python特定的，不同语言之间的兼容性难以保障。  "
   ]
  },
  {
   "cell_type": "markdown",
   "metadata": {},
   "source": [
    "#### 建议45.序列化的另一个不错的选择——JSON"
   ]
  },
  {
   "cell_type": "markdown",
   "metadata": {},
   "source": [
    "相比上面的pickle，json具有以下优势:"
   ]
  },
  {
   "cell_type": "markdown",
   "metadata": {},
   "source": [
    "1.使用简单，支持多种数据类型。\n",
    "1)使用简单，支持多种数据类型；  \n",
    "2)值的有序列表。  \n",
    "2.存储格式可读性更为友好，容易修改。  \n",
    "相比pickle来说，json格式更加接近程序员思维，修改和阅读上要容易的多。  \n",
    "3.json支持跨平台跨语言操作，能轻易被其他语言解析。  \n",
    "4.具有较强的扩展性。  \n",
    "5.json在序列化datetime的时候会抛出TypeError异常，因为json模块本身不支持datetime的序列化，因此要对json本身的JSONEncoder进行扩展。"
   ]
  },
  {
   "cell_type": "markdown",
   "metadata": {},
   "source": [
    "最后，要注意Python标准模块中json的性能稍逊于pickle，而pickle稍逊于cPickle。  \n",
    "如果对序列化性能要求非常高的场景，可以选择cPickle模块。  "
   ]
  },
  {
   "cell_type": "markdown",
   "metadata": {},
   "source": [
    "#### 建议46.使用trackback获取栈信息"
   ]
  },
  {
   "cell_type": "markdown",
   "metadata": {},
   "source": [
    "当有异常发生的时候，我们会用try...except...来进行显示错误信息。  \n",
    "但是，我们需要定位到错误信息在哪里的时候怎么处理呢？  \n",
    "逐行检查显然不合适吧？"
   ]
  },
  {
   "cell_type": "code",
   "execution_count": 1,
   "metadata": {},
   "outputs": [],
   "source": [
    "gList = ['a','b','c','d','e','f','g']\n",
    "\n",
    "def f():\n",
    "    gList[5]\n",
    "    return g()\n",
    "\n",
    "def g():\n",
    "    return h()\n",
    "\n",
    "def h():\n",
    "    del gList[2]\n",
    "    return i()\n",
    "\n",
    "def i():\n",
    "    gList.append('i')\n",
    "    print (gList[7])"
   ]
  },
  {
   "cell_type": "markdown",
   "metadata": {},
   "source": [
    "以下信息虽然有异常产生但是没有办法快速知道错误在哪里"
   ]
  },
  {
   "cell_type": "code",
   "execution_count": 2,
   "metadata": {
    "scrolled": true
   },
   "outputs": [
    {
     "name": "stdout",
     "output_type": "stream",
     "text": [
      "Sorry,Exception occured,you accessed an element out of range\n",
      "list index out of range\n"
     ]
    }
   ],
   "source": [
    "try:\n",
    "    f()\n",
    "except IndexError as ex:\n",
    "    print(\"Sorry,Exception occured,you accessed an element out of range\")\n",
    "    print(ex)"
   ]
  },
  {
   "cell_type": "markdown",
   "metadata": {},
   "source": [
    "加入traceback后，程序会输出异常发生时候的完整栈信息，包括调用顺序、异常发生语句、错误类型等等"
   ]
  },
  {
   "cell_type": "code",
   "execution_count": 4,
   "metadata": {},
   "outputs": [],
   "source": [
    "import traceback"
   ]
  },
  {
   "cell_type": "code",
   "execution_count": 5,
   "metadata": {},
   "outputs": [
    {
     "name": "stdout",
     "output_type": "stream",
     "text": [
      "Sorry,Exception occured,you accessed an element out of range\n",
      "list index out of range\n"
     ]
    },
    {
     "name": "stderr",
     "output_type": "stream",
     "text": [
      "Traceback (most recent call last):\n",
      "  File \"<ipython-input-5-941332a2cdef>\", line 2, in <module>\n",
      "    f()\n",
      "  File \"<ipython-input-1-758086f8ec81>\", line 5, in f\n",
      "    return g()\n",
      "  File \"<ipython-input-1-758086f8ec81>\", line 8, in g\n",
      "    return h()\n",
      "  File \"<ipython-input-1-758086f8ec81>\", line 12, in h\n",
      "    return i()\n",
      "  File \"<ipython-input-1-758086f8ec81>\", line 16, in i\n",
      "    print (gList[7])\n",
      "IndexError: list index out of range\n"
     ]
    }
   ],
   "source": [
    "try:\n",
    "    f()\n",
    "except IndexError as ex:\n",
    "    print(\"Sorry,Exception occured,you accessed an element out of range\")\n",
    "    print(ex)\n",
    "    traceback.print_exc()"
   ]
  },
  {
   "cell_type": "markdown",
   "metadata": {},
   "source": [
    "`traceback.print_exc()` 方法打印出的信息包括 3 部分：错误类型（IndexError）、错误对应的值（list index out of range）以及具体的 trace 信息，包括文件名、具体的行号、函数名以及对应的源代码。`Traceback` 模块提供了一系列方法来获取和显示异常发生时候的 trace 相关信息：\n",
    "\n",
    "* `traceback.print_exception(type, value, traceback[, limit[, file]])`，根据 limit 的设置打印栈信息，file 为 None 的情况下定位到 `sys.stderr`，否则则写入文件；其中 type、value、traceback 这 3 个参数对应的值可以从 `sys.exc_info()` 中获取。\n",
    "* `traceback.print_exc([limit[, file]])`，为 `print_exception()` 函数的缩写，不需要传入 type、value、traceback 这 3 个参数。\n",
    "* `traceback.format_exc([limit])`，与 `print_exec()` 类似，区别在于返回形式为字符串。\n",
    "* `traceback.extract_stack([file, [limit]])`，从当前栈帧中提取 trace 信息。"
   ]
  },
  {
   "cell_type": "markdown",
   "metadata": {},
   "source": [
    "#### 建议47.使用logging记录日志信息"
   ]
  },
  {
   "cell_type": "markdown",
   "metadata": {},
   "source": [
    "仅仅将信息输出到控制台是远远不够的，更为常见的是使用日志保存程序运行过程中的相关信息，如运行时间、描述信息以及错误或者异常发生时候的特定上下文信息。"
   ]
  },
  {
   "cell_type": "markdown",
   "metadata": {},
   "source": [
    "#### 建议48.使用 threading 模块编写多线程程序"
   ]
  },
  {
   "cell_type": "markdown",
   "metadata": {},
   "source": [
    "GIL(Global Interpreter Lock，即全局解释锁的缩写，保证了了同一时刻只有一个线程在一个CPU上执行字节码，无法将多个线程映射到多个CPU上)   \n",
    "的存在使得 Python 多线程编程暂时无法充分利用多处理器的优势，这种限制并不意味着我们需要放弃多线程。的确，对于只含纯 Python 的代码也许使用多线程并不能提高运行速率，但在以下几种情况，如等待外部资源返回，或者为了提高用户体验而建立反应灵活的用户界面，或者多用户应用程序中，多线程仍然是一个比较好的解决方案。Python 为多线程编程提供了两个非常简单明了的模块：thread 和 threading。"
   ]
  },
  {
   "cell_type": "markdown",
   "metadata": {},
   "source": [
    "应该要说明的是:Python3 中已经不存在 thread 模块。thread 模块在 Python3 中被命名为 _thread"
   ]
  },
  {
   "cell_type": "markdown",
   "metadata": {},
   "source": [
    "很多情况下我们可能希望主线程能够等待所有子线程都完成时才退出，这时应该使用 threading 模块，它支持守护线程，可以通过 `setDaemon()` 函数来设定线程的 daemon 属性。当 daemon 属性设置为 True 的时候表明主线程的退出可以不用等待子线程完成。默认情况下，daemon 标志为 False，所有的非守护线程结束后主线程才会结束。"
   ]
  },
  {
   "cell_type": "code",
   "execution_count": 7,
   "metadata": {},
   "outputs": [
    {
     "name": "stdout",
     "output_type": "stream",
     "text": [
      "False\n",
      "False\n",
      "I will calculate square of 2 after delay for 5\n",
      "I will calculate square of 6 after delay for 8\n",
      "calculate begins...\n",
      "4\n",
      "calculate begins...\n",
      "36\n"
     ]
    }
   ],
   "source": [
    "import threading\n",
    "import time\n",
    "def myfunc(a, delay):\n",
    "    print(\"I will calculate square of {} after delay for {}\".format(a, delay))\n",
    "    time.sleep(delay)\n",
    "    print(\"calculate begins...\")\n",
    "    result = a * a\n",
    "    print(result)\n",
    "    return result\n",
    "\n",
    "t1 = threading.Thread(target=myfunc, args=(2, 5))\n",
    "t2 = threading.Thread(target=myfunc, args=(6, 8))\n",
    "print(t1.isDaemon())\n",
    "print(t2.isDaemon())\n",
    "t2.setDaemon(True)\n",
    "t1.start()\n",
    "t2.start()"
   ]
  },
  {
   "cell_type": "markdown",
   "metadata": {},
   "source": [
    "#### 建议49.使用 Queue 使多线程编程更安全"
   ]
  },
  {
   "cell_type": "markdown",
   "metadata": {},
   "source": [
    "## 第5章 设计模式"
   ]
  },
  {
   "cell_type": "markdown",
   "metadata": {},
   "source": [
    "#### 建议50.利用模块实现单例模式"
   ]
  },
  {
   "cell_type": "markdown",
   "metadata": {},
   "source": [
    "#### 建议51.用mixin模式让程序更加灵活"
   ]
  },
  {
   "cell_type": "markdown",
   "metadata": {},
   "source": [
    "#### 建议52.用发布订阅模式实现松耦合"
   ]
  },
  {
   "cell_type": "markdown",
   "metadata": {},
   "source": [
    "#### 建议53.用发布订阅模式实现松耦合"
   ]
  },
  {
   "cell_type": "markdown",
   "metadata": {},
   "source": [
    "## 第6章 内部机制"
   ]
  },
  {
   "cell_type": "markdown",
   "metadata": {},
   "source": [
    "#### 建议54.理解build-in objects"
   ]
  },
  {
   "cell_type": "markdown",
   "metadata": {},
   "source": [
    "#### 建议55.__init__（）不是构造方法"
   ]
  },
  {
   "cell_type": "markdown",
   "metadata": {},
   "source": [
    "#### 建议56.理解名字的查找机制"
   ]
  },
  {
   "cell_type": "markdown",
   "metadata": {},
   "source": [
    "在 Python 中，所有所谓的变量，其实都是名字，这些名字指向一个或多个 Python 对象。\n",
    "\n",
    "所有的这些名字，都存在于一个表里（又称为命名空间），一般情况下，我们称之为局部变量（locals），可以通过 `locals()` 函数调用看到。"
   ]
  },
  {
   "cell_type": "code",
   "execution_count": 1,
   "metadata": {},
   "outputs": [],
   "source": [
    "a = 1\n",
    "b = a\n",
    "c = 'china'"
   ]
  },
  {
   "cell_type": "code",
   "execution_count": 2,
   "metadata": {},
   "outputs": [
    {
     "data": {
      "text/plain": [
       "True"
      ]
     },
     "execution_count": 2,
     "metadata": {},
     "output_type": "execute_result"
    }
   ],
   "source": [
    "id(a) == id(b)"
   ]
  },
  {
   "cell_type": "code",
   "execution_count": 3,
   "metadata": {
    "scrolled": true
   },
   "outputs": [
    {
     "data": {
      "text/plain": [
       "False"
      ]
     },
     "execution_count": 3,
     "metadata": {},
     "output_type": "execute_result"
    }
   ],
   "source": [
    "id(a) == id(c)"
   ]
  },
  {
   "cell_type": "markdown",
   "metadata": {},
   "source": [
    "在一个 `globals()` 的表里可以看到全局变量，注意如果是在 Python shell 中执行  `locals()`，也可以看到全局的变量。  \n",
    "如果在一个函数里面定义这些变量，情况就会有所不同。"
   ]
  },
  {
   "cell_type": "code",
   "execution_count": 4,
   "metadata": {},
   "outputs": [
    {
     "data": {
      "text/plain": [
       "{'__name__': '__main__',\n",
       " '__doc__': 'Automatically created module for IPython interactive environment',\n",
       " '__package__': None,\n",
       " '__loader__': None,\n",
       " '__spec__': None,\n",
       " '__builtin__': <module 'builtins' (built-in)>,\n",
       " '__builtins__': <module 'builtins' (built-in)>,\n",
       " '_ih': ['',\n",
       "  \"a = 1\\nb = a\\nc = 'china'\",\n",
       "  'id(a) == id(b)',\n",
       "  'id(a) == id(c)',\n",
       "  'locals()'],\n",
       " '_oh': {2: True, 3: False},\n",
       " '_dh': ['E:\\\\Jupyter'],\n",
       " 'In': ['',\n",
       "  \"a = 1\\nb = a\\nc = 'china'\",\n",
       "  'id(a) == id(b)',\n",
       "  'id(a) == id(c)',\n",
       "  'locals()'],\n",
       " 'Out': {2: True, 3: False},\n",
       " 'get_ipython': <bound method InteractiveShell.get_ipython of <ipykernel.zmqshell.ZMQInteractiveShell object at 0x00000284F78B02C8>>,\n",
       " 'exit': <IPython.core.autocall.ZMQExitAutocall at 0x284f7971408>,\n",
       " 'quit': <IPython.core.autocall.ZMQExitAutocall at 0x284f7971408>,\n",
       " '_': False,\n",
       " '__': True,\n",
       " '___': '',\n",
       " '_i': 'id(a) == id(c)',\n",
       " '_ii': 'id(a) == id(b)',\n",
       " '_iii': \"a = 1\\nb = a\\nc = 'china'\",\n",
       " '_i1': \"a = 1\\nb = a\\nc = 'china'\",\n",
       " 'a': 1,\n",
       " 'b': 1,\n",
       " 'c': 'china',\n",
       " '_i2': 'id(a) == id(b)',\n",
       " '_2': True,\n",
       " '_i3': 'id(a) == id(c)',\n",
       " '_3': False,\n",
       " '_i4': 'locals()'}"
      ]
     },
     "execution_count": 4,
     "metadata": {},
     "output_type": "execute_result"
    }
   ],
   "source": [
    "locals()"
   ]
  },
  {
   "cell_type": "code",
   "execution_count": 5,
   "metadata": {},
   "outputs": [
    {
     "data": {
      "text/plain": [
       "{'__name__': '__main__',\n",
       " '__doc__': 'Automatically created module for IPython interactive environment',\n",
       " '__package__': None,\n",
       " '__loader__': None,\n",
       " '__spec__': None,\n",
       " '__builtin__': <module 'builtins' (built-in)>,\n",
       " '__builtins__': <module 'builtins' (built-in)>,\n",
       " '_ih': ['',\n",
       "  \"a = 1\\nb = a\\nc = 'china'\",\n",
       "  'id(a) == id(b)',\n",
       "  'id(a) == id(c)',\n",
       "  'locals()',\n",
       "  'globals()'],\n",
       " '_oh': {2: True, 3: False, 4: {...}},\n",
       " '_dh': ['E:\\\\Jupyter'],\n",
       " 'In': ['',\n",
       "  \"a = 1\\nb = a\\nc = 'china'\",\n",
       "  'id(a) == id(b)',\n",
       "  'id(a) == id(c)',\n",
       "  'locals()',\n",
       "  'globals()'],\n",
       " 'Out': {2: True, 3: False, 4: {...}},\n",
       " 'get_ipython': <bound method InteractiveShell.get_ipython of <ipykernel.zmqshell.ZMQInteractiveShell object at 0x00000284F78B02C8>>,\n",
       " 'exit': <IPython.core.autocall.ZMQExitAutocall at 0x284f7971408>,\n",
       " 'quit': <IPython.core.autocall.ZMQExitAutocall at 0x284f7971408>,\n",
       " '_': {...},\n",
       " '__': False,\n",
       " '___': True,\n",
       " '_i': 'locals()',\n",
       " '_ii': 'id(a) == id(c)',\n",
       " '_iii': 'id(a) == id(b)',\n",
       " '_i1': \"a = 1\\nb = a\\nc = 'china'\",\n",
       " 'a': 1,\n",
       " 'b': 1,\n",
       " 'c': 'china',\n",
       " '_i2': 'id(a) == id(b)',\n",
       " '_2': True,\n",
       " '_i3': 'id(a) == id(c)',\n",
       " '_3': False,\n",
       " '_i4': 'locals()',\n",
       " '_4': {...},\n",
       " '_i5': 'globals()'}"
      ]
     },
     "execution_count": 5,
     "metadata": {},
     "output_type": "execute_result"
    }
   ],
   "source": [
    "globals()"
   ]
  },
  {
   "cell_type": "markdown",
   "metadata": {},
   "source": [
    "在 CPython 的实现中，只要出现了赋值语句（或者称为名字绑定），那么这个名字就被当做局部变量来对待。  \n",
    "需要改变全局变量时，使用 global 关键字。"
   ]
  },
  {
   "cell_type": "markdown",
   "metadata": {},
   "source": [
    "运行一下函数可见，在bar()中 `b = a * 2` 先执行，而此时局部变量 a 尚不存在，所以就产生了一个异常"
   ]
  },
  {
   "cell_type": "code",
   "execution_count": 14,
   "metadata": {},
   "outputs": [],
   "source": [
    "def foo():\n",
    "\ta = 1\n",
    "\tdef bar():\n",
    "\t\tb = a * 2\n",
    "\t\ta = b + 1\n",
    "\t\tprint(a)\n",
    "\treturn bar"
   ]
  },
  {
   "cell_type": "code",
   "execution_count": 15,
   "metadata": {},
   "outputs": [
    {
     "ename": "UnboundLocalError",
     "evalue": "local variable 'a' referenced before assignment",
     "output_type": "error",
     "traceback": [
      "\u001b[1;31m---------------------------------------------------------------------------\u001b[0m",
      "\u001b[1;31mUnboundLocalError\u001b[0m                         Traceback (most recent call last)",
      "\u001b[1;32m<ipython-input-15-c221e7e4237b>\u001b[0m in \u001b[0;36m<module>\u001b[1;34m\u001b[0m\n\u001b[1;32m----> 1\u001b[1;33m \u001b[0mfoo\u001b[0m\u001b[1;33m(\u001b[0m\u001b[1;33m)\u001b[0m\u001b[1;33m(\u001b[0m\u001b[1;33m)\u001b[0m\u001b[1;33m\u001b[0m\u001b[1;33m\u001b[0m\u001b[0m\n\u001b[0m",
      "\u001b[1;32m<ipython-input-14-0f53643f9712>\u001b[0m in \u001b[0;36mbar\u001b[1;34m()\u001b[0m\n\u001b[0;32m      2\u001b[0m         \u001b[0ma\u001b[0m \u001b[1;33m=\u001b[0m \u001b[1;36m1\u001b[0m\u001b[1;33m\u001b[0m\u001b[1;33m\u001b[0m\u001b[0m\n\u001b[0;32m      3\u001b[0m         \u001b[1;32mdef\u001b[0m \u001b[0mbar\u001b[0m\u001b[1;33m(\u001b[0m\u001b[1;33m)\u001b[0m\u001b[1;33m:\u001b[0m\u001b[1;33m\u001b[0m\u001b[1;33m\u001b[0m\u001b[0m\n\u001b[1;32m----> 4\u001b[1;33m                 \u001b[0mb\u001b[0m \u001b[1;33m=\u001b[0m \u001b[0ma\u001b[0m \u001b[1;33m*\u001b[0m \u001b[1;36m2\u001b[0m\u001b[1;33m\u001b[0m\u001b[1;33m\u001b[0m\u001b[0m\n\u001b[0m\u001b[0;32m      5\u001b[0m                 \u001b[0ma\u001b[0m \u001b[1;33m=\u001b[0m \u001b[0mb\u001b[0m \u001b[1;33m+\u001b[0m \u001b[1;36m1\u001b[0m\u001b[1;33m\u001b[0m\u001b[1;33m\u001b[0m\u001b[0m\n\u001b[0;32m      6\u001b[0m                 \u001b[0mprint\u001b[0m\u001b[1;33m(\u001b[0m\u001b[0ma\u001b[0m\u001b[1;33m)\u001b[0m\u001b[1;33m\u001b[0m\u001b[1;33m\u001b[0m\u001b[0m\n",
      "\u001b[1;31mUnboundLocalError\u001b[0m: local variable 'a' referenced before assignment"
     ]
    }
   ],
   "source": [
    "foo()()"
   ]
  },
  {
   "cell_type": "markdown",
   "metadata": {},
   "source": [
    "为了确保函数执行成功，我们需要在函数中利用global将a声明为全局变量"
   ]
  },
  {
   "cell_type": "code",
   "execution_count": 9,
   "metadata": {},
   "outputs": [],
   "source": [
    "a = 1\n",
    "def foo(x):\n",
    "        global a\n",
    "        a = a * x\n",
    "        def bar():\n",
    "            global a\n",
    "            b = a * 2\n",
    "            a = b + 1\n",
    "            print(a)\n",
    "        return bar"
   ]
  },
  {
   "cell_type": "code",
   "execution_count": 10,
   "metadata": {},
   "outputs": [
    {
     "name": "stdout",
     "output_type": "stream",
     "text": [
      "3\n"
     ]
    }
   ],
   "source": [
    "foo(1)()"
   ]
  },
  {
   "cell_type": "markdown",
   "metadata": {},
   "source": [
    "编程语言并不提倡全局变量，而且这种写法有时候还影响业务逻辑。  \n",
    "此外，还有把 a 作为容器的一个元素来对待的方案，但也都相当复杂。  \n",
    "真正的解决方案是 Python3 引入的 `nonlocal` 关键字："
   ]
  },
  {
   "cell_type": "code",
   "execution_count": 17,
   "metadata": {},
   "outputs": [],
   "source": [
    "def foo(x):\n",
    "\ta = x\n",
    "\tdef bar():\n",
    "\t\tnonlocal a\n",
    "\t\tb = a * 2\n",
    "\t\ta = b + 1\n",
    "\t\tprint(a)\n",
    "\treturn bar"
   ]
  },
  {
   "cell_type": "code",
   "execution_count": 20,
   "metadata": {},
   "outputs": [
    {
     "name": "stdout",
     "output_type": "stream",
     "text": [
      "3\n"
     ]
    }
   ],
   "source": [
    "foo(1)()"
   ]
  },
  {
   "cell_type": "markdown",
   "metadata": {},
   "source": [
    "#### 建议57.为什么需要 self 参数"
   ]
  },
  {
   "cell_type": "markdown",
   "metadata": {},
   "source": [
    "在类中当定义实例方法的时候需要将第一个参数显式声明为 self，而调用的时候并不需要传入该参数。\n",
    "\n",
    "self 表示的就是实例对象本身，即类的对象在内存中的地址。self 是对对象本身的引用。"
   ]
  },
  {
   "cell_type": "markdown",
   "metadata": {},
   "source": [
    "#### 建议58.理解 MRO 与多继承"
   ]
  },
  {
   "cell_type": "markdown",
   "metadata": {},
   "source": [
    "Python 也支持多继承，语法：\n",
    "\n",
    "`class DerivedClassName(Base1, Base2, Base3)`"
   ]
  },
  {
   "cell_type": "markdown",
   "metadata": {},
   "source": [
    "古典类和新式类之间所采用的 MRO（Method Resolution Order，方法解析顺序）实现方式存在差异。\n",
    "\n",
    "在古典类中，MRO 搜索采用简单的自左向右的深度优先方法，即按照多继承申明的顺序形成继承树结构，自顶向下采用深度优先(DFS)的搜索顺序，当找到所需要的属性或者方法的时候就停止搜索。"
   ]
  },
  {
   "cell_type": "markdown",
   "metadata": {},
   "source": [
    "举例来说"
   ]
  },
  {
   "cell_type": "code",
   "execution_count": 2,
   "metadata": {},
   "outputs": [],
   "source": [
    "class A():\n",
    "    def getvalue(self):\n",
    "        print(\"return value of A\")\n",
    "    def show(self):\n",
    "        print(\"I can show the information of A\")\n",
    "\n",
    "class B(A):\n",
    "    def getvalue(self):\n",
    "        print(\"return value of B\")\n",
    "\n",
    "class C(A):\n",
    "    def getvalue(self):\n",
    "        print(\"return value of C\")\n",
    "    \n",
    "    def show(self):\n",
    "        print(\"I can show the information of C\")\n",
    "\n",
    "class D(B,C):\n",
    "    pass"
   ]
  },
  {
   "cell_type": "code",
   "execution_count": 3,
   "metadata": {},
   "outputs": [],
   "source": [
    "d = D()"
   ]
  },
  {
   "cell_type": "code",
   "execution_count": 4,
   "metadata": {},
   "outputs": [
    {
     "name": "stdout",
     "output_type": "stream",
     "text": [
      "return value of B\n"
     ]
    }
   ],
   "source": [
    "d.getvalue()"
   ]
  },
  {
   "cell_type": "code",
   "execution_count": 5,
   "metadata": {},
   "outputs": [
    {
     "name": "stdout",
     "output_type": "stream",
     "text": [
      "I can show the information of C\n"
     ]
    }
   ],
   "source": [
    "d.show()"
   ]
  },
  {
   "cell_type": "markdown",
   "metadata": {},
   "source": [
    "以上例子说明，如果是古典类的话，虽然返回的d.getvalue()相同。  \n",
    "但是d.show()的返回值应该进一步由B向下挖掘，得到`I can show the information of A`    \n",
    "而实际案例是新式类，返回的是`I can show the information of C`"
   ]
  },
  {
   "cell_type": "markdown",
   "metadata": {},
   "source": [
    "#### 建议59.理解描述符机制"
   ]
  },
  {
   "cell_type": "markdown",
   "metadata": {},
   "source": [
    "除了在不同的局部变量、全局变量中查找名字，还有一个相似的场景，那就是查找对象的属性。  \n",
    "在 Python 中，一切皆是对象，所以类也是对象，类的实例也是对象。"
   ]
  },
  {
   "cell_type": "markdown",
   "metadata": {},
   "source": [
    "如我们可以通过`__dict__`来获得list的方法"
   ]
  },
  {
   "cell_type": "code",
   "execution_count": 7,
   "metadata": {},
   "outputs": [
    {
     "data": {
      "text/plain": [
       "mappingproxy({'__repr__': <slot wrapper '__repr__' of 'list' objects>,\n",
       "              '__hash__': None,\n",
       "              '__getattribute__': <slot wrapper '__getattribute__' of 'list' objects>,\n",
       "              '__lt__': <slot wrapper '__lt__' of 'list' objects>,\n",
       "              '__le__': <slot wrapper '__le__' of 'list' objects>,\n",
       "              '__eq__': <slot wrapper '__eq__' of 'list' objects>,\n",
       "              '__ne__': <slot wrapper '__ne__' of 'list' objects>,\n",
       "              '__gt__': <slot wrapper '__gt__' of 'list' objects>,\n",
       "              '__ge__': <slot wrapper '__ge__' of 'list' objects>,\n",
       "              '__iter__': <slot wrapper '__iter__' of 'list' objects>,\n",
       "              '__init__': <slot wrapper '__init__' of 'list' objects>,\n",
       "              '__len__': <slot wrapper '__len__' of 'list' objects>,\n",
       "              '__getitem__': <method '__getitem__' of 'list' objects>,\n",
       "              '__setitem__': <slot wrapper '__setitem__' of 'list' objects>,\n",
       "              '__delitem__': <slot wrapper '__delitem__' of 'list' objects>,\n",
       "              '__add__': <slot wrapper '__add__' of 'list' objects>,\n",
       "              '__mul__': <slot wrapper '__mul__' of 'list' objects>,\n",
       "              '__rmul__': <slot wrapper '__rmul__' of 'list' objects>,\n",
       "              '__contains__': <slot wrapper '__contains__' of 'list' objects>,\n",
       "              '__iadd__': <slot wrapper '__iadd__' of 'list' objects>,\n",
       "              '__imul__': <slot wrapper '__imul__' of 'list' objects>,\n",
       "              '__new__': <function list.__new__(*args, **kwargs)>,\n",
       "              '__reversed__': <method '__reversed__' of 'list' objects>,\n",
       "              '__sizeof__': <method '__sizeof__' of 'list' objects>,\n",
       "              'clear': <method 'clear' of 'list' objects>,\n",
       "              'copy': <method 'copy' of 'list' objects>,\n",
       "              'append': <method 'append' of 'list' objects>,\n",
       "              'insert': <method 'insert' of 'list' objects>,\n",
       "              'extend': <method 'extend' of 'list' objects>,\n",
       "              'pop': <method 'pop' of 'list' objects>,\n",
       "              'remove': <method 'remove' of 'list' objects>,\n",
       "              'index': <method 'index' of 'list' objects>,\n",
       "              'count': <method 'count' of 'list' objects>,\n",
       "              'reverse': <method 'reverse' of 'list' objects>,\n",
       "              'sort': <method 'sort' of 'list' objects>,\n",
       "              '__doc__': 'Built-in mutable sequence.\\n\\nIf no argument is given, the constructor creates a new empty list.\\nThe argument must be an iterable if specified.'})"
      ]
     },
     "execution_count": 7,
     "metadata": {},
     "output_type": "execute_result"
    }
   ],
   "source": [
    "list.__dict__"
   ]
  },
  {
   "cell_type": "markdown",
   "metadata": {},
   "source": [
    "描述符机制有什么作用？其实它的作用编写一般程序的话还真用不上，但对于编写程序库的读者来说就有用了，比如已绑定方法和未绑定方法。"
   ]
  },
  {
   "cell_type": "markdown",
   "metadata": {},
   "source": [
    "#### 建议60.区别 `__getattr__()` 和 `__getattribute__()` 方法"
   ]
  },
  {
   "cell_type": "markdown",
   "metadata": {},
   "source": [
    "#### 建议65.熟悉Python的迭代器"
   ]
  },
  {
   "cell_type": "code",
   "execution_count": 2,
   "metadata": {},
   "outputs": [],
   "source": [
    "import itertools as it"
   ]
  },
  {
   "cell_type": "code",
   "execution_count": 3,
   "metadata": {
    "scrolled": true
   },
   "outputs": [
    {
     "data": {
      "text/plain": [
       "['A', 'B', 'C', 'D', 'A', 'B']"
      ]
     },
     "execution_count": 3,
     "metadata": {},
     "output_type": "execute_result"
    }
   ],
   "source": [
    "[k for k, g in it.groupby(\"AAAABBBCCDAABB\")]"
   ]
  },
  {
   "cell_type": "code",
   "execution_count": 4,
   "metadata": {},
   "outputs": [
    {
     "data": {
      "text/plain": [
       "[['A', 'A', 'A', 'A'], ['B', 'B', 'B'], ['C', 'C'], ['D']]"
      ]
     },
     "execution_count": 4,
     "metadata": {},
     "output_type": "execute_result"
    }
   ],
   "source": [
    "[list(g) for k, g in it.groupby(\"AAAABBBCCD\")]"
   ]
  },
  {
   "cell_type": "code",
   "execution_count": 5,
   "metadata": {},
   "outputs": [
    {
     "data": {
      "text/plain": [
       "[('A', 'A'),\n",
       " ('A', 'B'),\n",
       " ('A', 'C'),\n",
       " ('A', 'D'),\n",
       " ('B', 'A'),\n",
       " ('B', 'B'),\n",
       " ('B', 'C'),\n",
       " ('B', 'D'),\n",
       " ('C', 'A'),\n",
       " ('C', 'B'),\n",
       " ('C', 'C'),\n",
       " ('C', 'D'),\n",
       " ('D', 'A'),\n",
       " ('D', 'B'),\n",
       " ('D', 'C'),\n",
       " ('D', 'D')]"
      ]
     },
     "execution_count": 5,
     "metadata": {},
     "output_type": "execute_result"
    }
   ],
   "source": [
    "#产生笛卡尔积\n",
    "list(it.product(\"ABCD\", repeat=2))"
   ]
  },
  {
   "cell_type": "code",
   "execution_count": 6,
   "metadata": {},
   "outputs": [
    {
     "data": {
      "text/plain": [
       "[('A', 'B'),\n",
       " ('A', 'C'),\n",
       " ('A', 'D'),\n",
       " ('B', 'A'),\n",
       " ('B', 'C'),\n",
       " ('B', 'D'),\n",
       " ('C', 'A'),\n",
       " ('C', 'B'),\n",
       " ('C', 'D'),\n",
       " ('D', 'A'),\n",
       " ('D', 'B'),\n",
       " ('D', 'C')]"
      ]
     },
     "execution_count": 6,
     "metadata": {},
     "output_type": "execute_result"
    }
   ],
   "source": [
    "#产生全排列\n",
    "list(it.permutations(\"ABCD\", 2))"
   ]
  },
  {
   "cell_type": "code",
   "execution_count": 8,
   "metadata": {},
   "outputs": [
    {
     "data": {
      "text/plain": [
       "[('A', 'B'), ('A', 'C'), ('A', 'D'), ('B', 'C'), ('B', 'D'), ('C', 'D')]"
      ]
     },
     "execution_count": 8,
     "metadata": {},
     "output_type": "execute_result"
    }
   ],
   "source": [
    "#产生无重复元素组合\n",
    "list(it.combinations(\"ABCD\", 2))"
   ]
  },
  {
   "cell_type": "code",
   "execution_count": 9,
   "metadata": {},
   "outputs": [
    {
     "data": {
      "text/plain": [
       "[('A', 'A'),\n",
       " ('A', 'B'),\n",
       " ('A', 'C'),\n",
       " ('A', 'D'),\n",
       " ('B', 'B'),\n",
       " ('B', 'C'),\n",
       " ('B', 'D'),\n",
       " ('C', 'C'),\n",
       " ('C', 'D'),\n",
       " ('D', 'D')]"
      ]
     },
     "execution_count": 9,
     "metadata": {},
     "output_type": "execute_result"
    }
   ],
   "source": [
    "#产生有重复元素组合\n",
    "list(it.combinations_with_replacement(\"ABCD\", 2))"
   ]
  },
  {
   "cell_type": "markdown",
   "metadata": {},
   "source": [
    "#### 建议66.熟悉Python的生成器"
   ]
  },
  {
   "cell_type": "markdown",
   "metadata": {},
   "source": [
    "#### 建议67.基于生成器的协程及 greenlet"
   ]
  },
  {
   "cell_type": "markdown",
   "metadata": {},
   "source": [
    "#### 建议68.理解GIL的局限性"
   ]
  },
  {
   "cell_type": "markdown",
   "metadata": {},
   "source": [
    "#### 建议69.对象的管理和垃圾回收"
   ]
  },
  {
   "cell_type": "code",
   "execution_count": 8,
   "metadata": {},
   "outputs": [],
   "source": [
    "import gc"
   ]
  },
  {
   "cell_type": "code",
   "execution_count": 9,
   "metadata": {},
   "outputs": [
    {
     "name": "stdout",
     "output_type": "stream",
     "text": [
      "True\n",
      "(700, 10, 10)\n"
     ]
    }
   ],
   "source": [
    "print(gc.isenabled())\n",
    "print(gc.get_threshold())"
   ]
  },
  {
   "cell_type": "code",
   "execution_count": 11,
   "metadata": {},
   "outputs": [],
   "source": [
    "class Leak(object):\n",
    "    def __init__(self):\n",
    "        print(\"object with id %d was born\"%id(self))"
   ]
  },
  {
   "cell_type": "code",
   "execution_count": 13,
   "metadata": {},
   "outputs": [
    {
     "name": "stdout",
     "output_type": "stream",
     "text": [
      "Garbage collector before running: collected 20 objects.\n",
      "Creating reference cycles...\n",
      "object with id 2185219582536 was born\n",
      "object with id 2185219582792 was born\n",
      "Garbage collector after running: collected 4 objects\n"
     ]
    }
   ],
   "source": [
    "collected = gc.collect()\n",
    "print(\"Garbage collector before running: collected {} objects.\".format(collected))\n",
    "print(\"Creating reference cycles...\")\n",
    "A = Leak()\n",
    "B = Leak()\n",
    "A.b = B\n",
    "B.a = A\n",
    "A = None\n",
    "B = None\n",
    "collected = gc.collect()\n",
    "#print(gc.garbage)\n",
    "print(\"Garbage collector after running: collected {} objects\".format(collected))"
   ]
  },
  {
   "cell_type": "code",
   "execution_count": 14,
   "metadata": {},
   "outputs": [
    {
     "name": "stdout",
     "output_type": "stream",
     "text": [
      "Garbage collector before running: collected 20 objects.\n",
      "Creating reference cycles...\n",
      "object with id 2185219672968 was born\n",
      "object with id 2185219674056 was born\n",
      "[]\n",
      "Garbage collector after running: collected 4 objects\n"
     ]
    }
   ],
   "source": [
    "collected = gc.collect()\n",
    "print(\"Garbage collector before running: collected {} objects.\".format(collected))\n",
    "print(\"Creating reference cycles...\")\n",
    "A = Leak()\n",
    "B = Leak()\n",
    "A.b = B\n",
    "B.a = A\n",
    "A = None\n",
    "B = None\n",
    "collected = gc.collect()\n",
    "print(gc.garbage)\n",
    "print(\"Garbage collector after running: collected {} objects\".format(collected))"
   ]
  },
  {
   "cell_type": "markdown",
   "metadata": {},
   "source": [
    "## 第7章 使用工具辅助开发"
   ]
  },
  {
   "cell_type": "markdown",
   "metadata": {},
   "source": [
    "如果不涉及Python模块的开发，这部分可以先不看的"
   ]
  },
  {
   "cell_type": "markdown",
   "metadata": {},
   "source": [
    "#### 建议70.从 PyPI 安装包建议"
   ]
  },
  {
   "cell_type": "markdown",
   "metadata": {},
   "source": [
    "#### 建议71.使用 pip 和 yolk 安装、管理包"
   ]
  },
  {
   "cell_type": "markdown",
   "metadata": {},
   "source": [
    "#### 建议72.做 paster 创建包"
   ]
  },
  {
   "cell_type": "markdown",
   "metadata": {},
   "source": [
    "#### 建议73.理解单元测试的概念"
   ]
  },
  {
   "cell_type": "markdown",
   "metadata": {},
   "source": [
    "#### 建议74.为包编写单元测试"
   ]
  },
  {
   "cell_type": "markdown",
   "metadata": {},
   "source": [
    "#### 建议75.利用测试驱动开发提高代码的可测性"
   ]
  },
  {
   "cell_type": "markdown",
   "metadata": {},
   "source": [
    "#### 建议76.使用 Pylint 检查代码风格"
   ]
  },
  {
   "cell_type": "markdown",
   "metadata": {},
   "source": [
    "#### 建议77.进行高效的代码审查"
   ]
  },
  {
   "cell_type": "markdown",
   "metadata": {},
   "source": [
    "#### 建议 78：将包发布到 PyPI"
   ]
  },
  {
   "cell_type": "markdown",
   "metadata": {},
   "source": [
    "## 第8章 使用工具辅助开发"
   ]
  },
  {
   "cell_type": "markdown",
   "metadata": {},
   "source": [
    "#### 建议 79：了解代码优化的基本原则"
   ]
  },
  {
   "cell_type": "markdown",
   "metadata": {},
   "source": [
    "#### 建议 80：借助性能优化工具"
   ]
  },
  {
   "cell_type": "markdown",
   "metadata": {},
   "source": [
    "#### 建议 81：利用cProfile定位性能瓶颈"
   ]
  },
  {
   "cell_type": "code",
   "execution_count": 2,
   "metadata": {},
   "outputs": [],
   "source": [
    "import cProfile"
   ]
  },
  {
   "cell_type": "code",
   "execution_count": 3,
   "metadata": {},
   "outputs": [],
   "source": [
    "import cProfile\n",
    "def foo():\n",
    "    sum = 0\n",
    "    for i in range(100):\n",
    "        sum += i\n",
    "    return sum"
   ]
  },
  {
   "cell_type": "code",
   "execution_count": 4,
   "metadata": {},
   "outputs": [
    {
     "name": "stdout",
     "output_type": "stream",
     "text": [
      "         4 function calls in 0.000 seconds\n",
      "\n",
      "   Ordered by: standard name\n",
      "\n",
      "   ncalls  tottime  percall  cumtime  percall filename:lineno(function)\n",
      "        1    0.000    0.000    0.000    0.000 <ipython-input-3-5f3d333aa6f1>:1(foo)\n",
      "        1    0.000    0.000    0.000    0.000 <string>:1(<module>)\n",
      "        1    0.000    0.000    0.000    0.000 {built-in method builtins.exec}\n",
      "        1    0.000    0.000    0.000    0.000 {method 'disable' of '_lsprof.Profiler' objects}\n",
      "\n",
      "\n"
     ]
    }
   ],
   "source": [
    "cProfile.run(\"foo()\")"
   ]
  },
  {
   "cell_type": "code",
   "execution_count": 5,
   "metadata": {},
   "outputs": [],
   "source": [
    "import timeit"
   ]
  },
  {
   "cell_type": "code",
   "execution_count": 8,
   "metadata": {},
   "outputs": [
    {
     "name": "stdout",
     "output_type": "stream",
     "text": [
      "4.75 µs ± 122 ns per loop (mean ± std. dev. of 7 runs, 100000 loops each)\n"
     ]
    }
   ],
   "source": [
    "%timeit foo()"
   ]
  },
  {
   "cell_type": "code",
   "execution_count": 9,
   "metadata": {},
   "outputs": [
    {
     "name": "stdout",
     "output_type": "stream",
     "text": [
      "6.38 µs ± 118 ns per loop (mean ± std. dev. of 7 runs, 100000 loops each)\n"
     ]
    }
   ],
   "source": [
    "%timeit [i for i in range(100) if i%2 == 0]"
   ]
  },
  {
   "cell_type": "markdown",
   "metadata": {},
   "source": [
    "#### 建议 82：使用memory_profiler和objgraph剖析内存使用"
   ]
  },
  {
   "cell_type": "code",
   "execution_count": 14,
   "metadata": {},
   "outputs": [],
   "source": [
    "import memory_profiler\n",
    "import time"
   ]
  },
  {
   "cell_type": "code",
   "execution_count": 15,
   "metadata": {},
   "outputs": [],
   "source": [
    "def profile():\n",
    "    bgn = time.time()\n",
    "    for i in range(100000):\n",
    "        [].append(1)\n",
    "    return time.time()-bgn"
   ]
  },
  {
   "cell_type": "code",
   "execution_count": 7,
   "metadata": {},
   "outputs": [],
   "source": [
    "import objgraph"
   ]
  },
  {
   "cell_type": "code",
   "execution_count": 8,
   "metadata": {},
   "outputs": [
    {
     "name": "stdout",
     "output_type": "stream",
     "text": [
      "function 12465\n",
      "dict     7820\n",
      "tuple    5974\n"
     ]
    }
   ],
   "source": [
    "objgraph.show_most_common_types(limit=3)"
   ]
  },
  {
   "cell_type": "markdown",
   "metadata": {},
   "source": [
    "#### 建议 83：努力降低算法复杂度"
   ]
  },
  {
   "cell_type": "markdown",
   "metadata": {},
   "source": [
    "算法复杂度比较"
   ]
  },
  {
   "cell_type": "markdown",
   "metadata": {},
   "source": [
    "`O(1) < O(log * n) < O(n) < O(n log n) < O(n^2) < O(c^n) < O(n!) < O(n^n)`"
   ]
  },
  {
   "cell_type": "markdown",
   "metadata": {},
   "source": [
    "#### 建议 84：掌握循环优化的基本技巧"
   ]
  },
  {
   "cell_type": "code",
   "execution_count": 14,
   "metadata": {},
   "outputs": [],
   "source": [
    "import timeit\n",
    "import math"
   ]
  },
  {
   "cell_type": "markdown",
   "metadata": {},
   "source": [
    "#### 1.减少循环内部的计算"
   ]
  },
  {
   "cell_type": "markdown",
   "metadata": {},
   "source": [
    "将没有必要的计算函数放在循环的外侧进行计算"
   ]
  },
  {
   "cell_type": "code",
   "execution_count": 21,
   "metadata": {},
   "outputs": [],
   "source": [
    "def func1():\n",
    "    j = 0\n",
    "    for i in range(100):  \n",
    "        d = math.sqrt(9)  \n",
    "        j += i*d  "
   ]
  },
  {
   "cell_type": "code",
   "execution_count": 22,
   "metadata": {},
   "outputs": [],
   "source": [
    "def func2():\n",
    "    j = 0\n",
    "    d = math.sqrt(9)\n",
    "    for i in range(100):   \n",
    "        j += i*d  "
   ]
  },
  {
   "cell_type": "code",
   "execution_count": 23,
   "metadata": {},
   "outputs": [
    {
     "name": "stdout",
     "output_type": "stream",
     "text": [
      "24.3 µs ± 838 ns per loop (mean ± std. dev. of 7 runs, 10000 loops each)\n"
     ]
    }
   ],
   "source": [
    "%timeit func1()"
   ]
  },
  {
   "cell_type": "code",
   "execution_count": 24,
   "metadata": {},
   "outputs": [
    {
     "name": "stdout",
     "output_type": "stream",
     "text": [
      "7.63 µs ± 90.8 ns per loop (mean ± std. dev. of 7 runs, 100000 loops each)\n"
     ]
    }
   ],
   "source": [
    "%timeit func2()"
   ]
  },
  {
   "cell_type": "markdown",
   "metadata": {},
   "source": [
    "显然方法二要明显快于方法一"
   ]
  },
  {
   "cell_type": "markdown",
   "metadata": {},
   "source": [
    "#### 2.将显式循环改成隐式循环"
   ]
  },
  {
   "cell_type": "markdown",
   "metadata": {},
   "source": [
    "例如从1到100写for循环进行累加，和用求和公式进行计算。"
   ]
  },
  {
   "cell_type": "markdown",
   "metadata": {},
   "source": [
    "当然这可能会带来另一个负面影响：牺牲了代码的可读性。因此这种情况下清晰、恰当的注释是非常必要的"
   ]
  },
  {
   "cell_type": "markdown",
   "metadata": {},
   "source": [
    "#### 3.循环中尽量引用局部变量"
   ]
  },
  {
   "cell_type": "markdown",
   "metadata": {},
   "source": [
    "在命名空间中局部变量优先搜索，因此局部变量的查询会比全局变量要快。  \n",
    "当在循环中需要多次引用某一个变量的时候，尽量将其转换为局部变量，比如下面第二个循环就优于第一个循环"
   ]
  },
  {
   "cell_type": "code",
   "execution_count": 11,
   "metadata": {},
   "outputs": [],
   "source": [
    "# 较慢\n",
    "x = [10, 34, 56, 78]\n",
    "def f(x):\n",
    "    for i in range(len(x)):\n",
    "        x[i] = math.sin(x[i])\n",
    "    return x\n",
    "\n",
    "# 较快\n",
    "def g(x):\n",
    "    loc_sin = math.sin\n",
    "    for i in range(len(x)):\n",
    "        x[i] = loc_sin(x[i])\n",
    "    return x"
   ]
  },
  {
   "cell_type": "code",
   "execution_count": 15,
   "metadata": {},
   "outputs": [
    {
     "name": "stdout",
     "output_type": "stream",
     "text": [
      "1.26 µs ± 21.3 ns per loop (mean ± std. dev. of 7 runs, 1000000 loops each)\n"
     ]
    }
   ],
   "source": [
    "%timeit f(x)"
   ]
  },
  {
   "cell_type": "code",
   "execution_count": 16,
   "metadata": {},
   "outputs": [
    {
     "name": "stdout",
     "output_type": "stream",
     "text": [
      "1.1 µs ± 16.8 ns per loop (mean ± std. dev. of 7 runs, 1000000 loops each)\n"
     ]
    }
   ],
   "source": [
    "%timeit g(x)"
   ]
  },
  {
   "cell_type": "markdown",
   "metadata": {},
   "source": [
    "#### 4.关注内层嵌套循环"
   ]
  },
  {
   "cell_type": "markdown",
   "metadata": {},
   "source": [
    "显然，对于同一个i，v1[i]在第二重循环中的值是不变的。因此没必要在每一次循环中都进行计算"
   ]
  },
  {
   "cell_type": "markdown",
   "metadata": {},
   "source": [
    "# 较慢\n",
    "for i in range(len(v1)):\n",
    "    for j in range(len(v2)):\n",
    "        x = v1[i] + v2[j]\n",
    "        \n",
    "# 较快\n",
    "for i in range(len(v1)):\n",
    "    v1i = v1[i]\n",
    "    for j in range(len(v2)):\n",
    "        x = v1i + v2[j]"
   ]
  },
  {
   "cell_type": "markdown",
   "metadata": {},
   "source": [
    "#### 建议 85：使用生成器提高效率"
   ]
  },
  {
   "cell_type": "markdown",
   "metadata": {},
   "source": [
    "生成器的概念是，如果一个函数体中包含有 yield 语句，则称为生成器（generator），它是一种特殊的迭代器（iterator），也可以称为可迭代对象（iterable）。"
   ]
  },
  {
   "cell_type": "markdown",
   "metadata": {},
   "source": [
    "实际上当需要在循环过程中依次处理一个序列中的元素的时候，就应该考虑生成器。yield 语句与 return 语句相似，当解释器执行遇到 yield 的时候，函数会自动返回 yield 语句之后的表达式的值。  \n",
    "不过与 return 不同的是，`yield 语句在返回的同时会保存所有的局部变量以及现场信息，以便在迭代器调用 `next()` 或 `send()` 方法的时候还原，而不是直接交给垃圾回收器`（`return()` 方法返回后这些信息会被垃圾回收器处理）。  \n",
    "这样就能够保证对生成器的每一次迭代都会返回一个元素，而不是一次性在内存中生成所有的元素。自 Python2.5 开始，yield 语句变为表达式，可以直接将其值赋给其他变量。"
   ]
  },
  {
   "cell_type": "code",
   "execution_count": 25,
   "metadata": {},
   "outputs": [],
   "source": [
    "def fib(n):\n",
    "    a = b = 1\n",
    "    for i in range(n):\n",
    "        yield a\n",
    "        a,b = b,a+b"
   ]
  },
  {
   "cell_type": "code",
   "execution_count": 33,
   "metadata": {},
   "outputs": [
    {
     "name": "stdout",
     "output_type": "stream",
     "text": [
      "1 1 2 3 5 8 13 21 34 55 "
     ]
    }
   ],
   "source": [
    "for i in fib(10):\n",
    "    print(i,end = \" \")"
   ]
  },
  {
   "cell_type": "markdown",
   "metadata": {},
   "source": [
    "#### 建议 86：使用不同的数据结构优化性能"
   ]
  },
  {
   "cell_type": "markdown",
   "metadata": {},
   "source": [
    "理解并会使用deque、bisect、heapq(堆)结构"
   ]
  },
  {
   "cell_type": "markdown",
   "metadata": {},
   "source": [
    "#### 建议 87：充分利用 set 的优势"
   ]
  },
  {
   "cell_type": "markdown",
   "metadata": {},
   "source": [
    "Python 中集合是通过 Hash 算法实现的无序不重复的元素集。\n",
    "\n",
    "集合中常见的操作及其对应的时间复杂度如下："
   ]
  },
  {
   "cell_type": "markdown",
   "metadata": {},
   "source": [
    "* `s.union(t)`：\n",
    "  * s 和 t 的并集，平均时间复杂度为：`O(len(s) + len(t))`\n",
    "* `s.intersection(t)`：\n",
    "  * s 和 t 的交集，平均时间复杂度为：`O(min(left(s) + len(t)))`，最差为：`O(len(s) * len(t))`\n",
    "* `s.difference(t)`：\n",
    "  * s 和 t 的差集，s-t，在 s 中存在但在 t 中不存在的元素组成的集合，平均时间复杂度为：`O(len(s))`\n",
    "* `s.symmetric_difference(t)`：\n",
    "  * s ^t，s 和 t 的并集减去 s 和 t 的交集，平均时间复杂度：`O(len(s))`，最差时间复杂度：`O(len(s) * len(t))`"
   ]
  },
  {
   "cell_type": "markdown",
   "metadata": {},
   "source": [
    "#### 建议 88：使用 `multiprocess` 克服 GIL 的缺陷"
   ]
  },
  {
   "cell_type": "markdown",
   "metadata": {},
   "source": [
    "#### 建议 89：使用线程池提高效率"
   ]
  },
  {
   "cell_type": "markdown",
   "metadata": {},
   "source": [
    "#### 建议 90：使用 C/C++ 模块扩展高性能"
   ]
  },
  {
   "cell_type": "markdown",
   "metadata": {},
   "source": [
    "#### 建议 91：使用 Cython 编写扩展模块"
   ]
  }
 ],
 "metadata": {
  "kernelspec": {
   "display_name": "Python 3",
   "language": "python",
   "name": "python3"
  },
  "language_info": {
   "codemirror_mode": {
    "name": "ipython",
    "version": 3
   },
   "file_extension": ".py",
   "mimetype": "text/x-python",
   "name": "python",
   "nbconvert_exporter": "python",
   "pygments_lexer": "ipython3",
   "version": "3.7.4"
  }
 },
 "nbformat": 4,
 "nbformat_minor": 2
}
